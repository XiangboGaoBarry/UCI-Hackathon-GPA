{
 "cells": [
  {
   "cell_type": "code",
   "execution_count": 1136,
   "metadata": {},
   "outputs": [],
   "source": [
    "#### check data is correct(multi layer depth map), geometry valid, and visualze the joint (15 joints setting)\n",
    "import numpy as np\n",
    "import matplotlib.pyplot as plt\n",
    "from mpl_toolkits.mplot3d import Axes3D\n",
    "%matplotlib inline\n",
    "import cv2\n",
    "from sklearn.linear_model import LogisticRegression\n",
    "from sklearn import linear_model\n",
    "import mltools as ml\n",
    "test_3d_gt_rel_std = np.load('test/test_3d_gt_rel_std.npy')\n",
    "test_3d_gt_rel_mean = np.load('test/test_3d_gt_rel_mean.npy')\n",
    "gt_3d_train_rel = np.load('train/gt_3d_train_rel.npy')\n",
    "train_3d_gt_rel_std = np.load('train/train_3d_gt_rel_std.npy')\n",
    "train_3d_gt_rel_mean = np.load('train/train_3d_gt_rel_mean.npy')\n",
    "test_2d_gt_std = np.load('test/test_2d_gt_std.npy')\n",
    "test_2d_gt_mean = np.load('test/test_2d_gt_mean.npy')\n",
    "train_2d_gt_std = np.load('train/train_2d_gt_std.npy')\n",
    "train_2d_gt_mean = np.load('train/train_2d_gt_mean.npy')\n",
    "gt_2d_test = np.load('test/gt_2d_test.npy')\n",
    "gt_2d_train = np.load('train/gt_2d_train.npy')\n",
    "J_test_gt_mdp_enc2_15 = np.load('test/J_test_gt_mdp_enc2_15.npy')\n",
    "J_train_gt_mdp_enc2_15 = np.load('train/J_train_gt_mdp_enc2_15.npy')\n",
    "J_test_gt_mdp_15 = np.load('test/J_test_gt_mdp_15.npy')\n",
    "J_train_gt_mdp_15 = np.load('train/J_train_gt_mdp_15.npy')\n",
    "test_gt_mdp_15 = np.load('test/test_gt_mdp_15.npy')\n",
    "train_gt_mdp_15 = np.load('train/train_gt_mdp_15.npy')\n",
    "gt_2d_val = np.load('validation/gt_2d_val.npy')\n",
    "gt_3d_val_rel = np.load('validation/gt_3d_val_rel.npy')\n",
    "J_val_gt_mdp_15 = np.load(\"validation/J_val_gt_mdp_15.npy\")\n",
    "J_val_gt_mdp_enc2_15 = np.load(\"validation/J_val_gt_mdp_enc2_15.npy\")\n",
    "val_gt_mdp_15 = np.load(\"validation/val_gt_mdp_15.npy\")"
   ]
  },
  {
   "cell_type": "code",
   "execution_count": 1137,
   "metadata": {},
   "outputs": [
    {
     "name": "stdout",
     "output_type": "stream",
     "text": [
      "(45,)\n",
      "(45,)\n",
      "(222514, 15, 3)\n",
      "(45,)\n",
      "(45,)\n",
      "(32,)\n",
      "(32,)\n",
      "(32,)\n",
      "(32,)\n",
      "(82378, 16, 2)\n",
      "(222514, 16, 2)\n",
      "(82378, 15, 64)\n",
      "(222514, 15, 64)\n",
      "(82378, 15, 15)\n",
      "(222514, 15, 15)\n",
      "(82378, 15, 15)\n",
      "(222514, 15, 15)\n",
      "(8000, 16, 2)\n",
      "(8000, 15, 3)\n",
      "(8000, 15, 15)\n",
      "(8000, 15, 64)\n",
      "(8000, 15, 15)\n"
     ]
    }
   ],
   "source": [
    "print(test_3d_gt_rel_std.shape)\n",
    "print(test_3d_gt_rel_mean.shape)\n",
    "print(gt_3d_train_rel.shape)\n",
    "print(train_3d_gt_rel_std.shape)\n",
    "print(train_3d_gt_rel_mean.shape)\n",
    "print(test_2d_gt_std.shape)\n",
    "print(test_2d_gt_mean.shape)\n",
    "print(train_2d_gt_std.shape)\n",
    "print(train_2d_gt_mean.shape)\n",
    "print(gt_2d_test.shape)\n",
    "print(gt_2d_train.shape)\n",
    "print(J_test_gt_mdp_enc2_15.shape)\n",
    "print(J_train_gt_mdp_enc2_15.shape)\n",
    "print(J_test_gt_mdp_15.shape)\n",
    "print(J_train_gt_mdp_15.shape)\n",
    "print(test_gt_mdp_15.shape)\n",
    "print(train_gt_mdp_15.shape)\n",
    "print(gt_2d_val.shape)\n",
    "print(gt_3d_val_rel.shape)\n",
    "print(J_val_gt_mdp_15.shape)\n",
    "print(J_val_gt_mdp_enc2_15.shape)\n",
    "print(val_gt_mdp_15.shape)"
   ]
  },
  {
   "cell_type": "code",
   "execution_count": 14,
   "metadata": {},
   "outputs": [
    {
     "name": "stdout",
     "output_type": "stream",
     "text": [
      "/Users/bar/Desktop/Folder/hackathon\r\n"
     ]
    }
   ],
   "source": [
    "!pwd"
   ]
  },
  {
   "cell_type": "code",
   "execution_count": 15,
   "metadata": {},
   "outputs": [
    {
     "name": "stdout",
     "output_type": "stream",
     "text": [
      "1008.7862982946299\n",
      "-1016.8448478979265\n",
      "250.60824584960938\n",
      "251.00762939453125\n",
      "9.500163078308105\n",
      "9.500030517578125\n"
     ]
    }
   ],
   "source": [
    "### data range, you may use the mean, std file to normalize the input and output, but remember to un-normalize for evaluation\n",
    "print(np.max(gt_3d_train_rel))\n",
    "print(np.min(gt_3d_train_rel))\n",
    "print(np.max(gt_2d_test))\n",
    "print(np.max(gt_2d_train))\n",
    "print(np.min(gt_2d_test))\n",
    "print(np.min(gt_2d_train))"
   ]
  },
  {
   "cell_type": "code",
   "execution_count": 16,
   "metadata": {},
   "outputs": [
    {
     "data": {
      "image/png": "[encoded data removed]",
      "text/plain": [
       "<Figure size 432x288 with 1 Axes>"
      ]
     },
     "metadata": {
      "needs_background": "light"
     },
     "output_type": "display_data"
    }
   ],
   "source": [
    "sample_id = 10\n",
    "sample_2d = gt_2d_train[sample_id,...]\n",
    "sample_3d = gt_3d_train_rel[sample_id,...]\n",
    "plt.plot(sample_2d[:,0],sample_2d[:,1],'*')\n",
    "plt.title('Input: person upside down')\n",
    "plt.show()"
   ]
  },
  {
   "cell_type": "code",
   "execution_count": 17,
   "metadata": {},
   "outputs": [
    {
     "data": {
      "text/plain": [
       "Text(0.5, 1.0, 'Input: Person in 2d image space')"
      ]
     },
     "execution_count": 17,
     "metadata": {},
     "output_type": "execute_result"
    },
    {
     "data": {
      "image/png": "[encoded data removed]",
      "text/plain": [
       "<Figure size 432x288 with 1 Axes>"
      ]
     },
     "metadata": {
      "needs_background": "light"
     },
     "output_type": "display_data"
    }
   ],
   "source": [
    "def show2D(points):\n",
    "    points = ((points.reshape(16, -1))).astype(np.int32)\n",
    "    img = np.ones((256,256)) * 50\n",
    "    for j in range(16):\n",
    "        if j == 7:\n",
    "            continue\n",
    "        img = cv2.circle(img, tuple(points[j, :].astype(int)), 3,  (255, 0, 0), cv2.FILLED)\n",
    "    edges_left = [ [0,1], [1,2],[2,6],[10,11],[12,8],[11,12]]\n",
    "    edges_middle = [[6, 8],[8, 9]]\n",
    "    edges = [[0, 1], [1, 2], [2, 6], [6, 3], [3, 4], [4, 5],\n",
    "         [10, 11], [11, 12], [12, 8], [8, 13], [13, 14], [14, 15],\n",
    "         [6, 8], [8, 9]]\n",
    "    for e in edges:\n",
    "        if e in edges_left:  ## right and middle: red, left: blue\n",
    "            cv2.line(img, (points[e[0], 0], points[e[0], 1]),\n",
    "                  (points[e[1], 0], points[e[1], 1]), [0,0,255], 2)\n",
    "        elif e in edges_middle:    \n",
    "            cv2.line(img, (points[e[0], 0], points[e[0], 1]),\n",
    "                  (points[e[1], 0], points[e[1], 1]), [128,0,128], 2)  \n",
    "        else:\n",
    "            cv2.line(img, (points[e[0], 0], points[e[0], 1]),\n",
    "                  (points[e[1], 0], points[e[1], 1]), [255,0,0], 2) \n",
    "    return img\n",
    "sample_2d_img = show2D(sample_2d)\n",
    "plt.imshow(sample_2d_img)\n",
    "plt.title('Input: Person in 2d image space')"
   ]
  },
  {
   "cell_type": "code",
   "execution_count": 1018,
   "metadata": {},
   "outputs": [
    {
     "data": {
      "image/png": "[encoded data removed]",
      "text/plain": [
       "<Figure size 1080x1080 with 1 Axes>"
      ]
     },
     "metadata": {
      "needs_background": "light"
     },
     "output_type": "display_data"
    }
   ],
   "source": [
    "def vis_3d_skeleton(kpt_3d_gt_old): \n",
    "    kpt_3d = np.zeros((16,3))\n",
    "    kpt_3d[:6,:] = kpt_3d_gt_old[:6,:]\n",
    "    kpt_3d[7:,:] = kpt_3d_gt_old[6:,:]\n",
    "    fig = plt.figure(figsize=(15,15))\n",
    "    ax = fig.add_subplot(111, projection='3d')\n",
    "    for j in range(16):\n",
    "        if j == 7:\n",
    "            continue\n",
    "        ax.scatter(kpt_3d[j, 0], kpt_3d[j, 2], -kpt_3d[j, 1], c='k', marker='o')\n",
    "    edges_left = [ [0,1], [1,2],[2,6],[10,11],[12,8],[11,12]]\n",
    "    edges_middle = [[6, 8],[8, 9]]\n",
    "    edges = [[0, 1], [1, 2], [2, 6], [6, 3], [3, 4], [4, 5],\n",
    "             [10, 11], [11, 12], [12, 8], [8, 13], [13, 14], [14, 15],\n",
    "             [6, 8], [8, 9]]\n",
    "    for l in range(len(edges)):\n",
    "        i1 = edges[l][0]\n",
    "        i2 = edges[l][1]\n",
    "\n",
    "        x2 = np.array([kpt_3d[i1, 0], kpt_3d[i2, 0]])\n",
    "        y2 = np.array([kpt_3d[i1, 1], kpt_3d[i2, 1]])\n",
    "        z2 = np.array([kpt_3d[i1, 2], kpt_3d[i2, 2]])        \n",
    "        if edges[l] in edges_left:\n",
    "            ax.plot(x2, z2, -y2, c='b', linewidth=2)\n",
    "        elif edges[l] in edges_middle:    \n",
    "            ax.plot(x2, z2, -y2, c='m', linewidth=2)\n",
    "        else:\n",
    "            ax.plot(x2, z2, -y2, c='r', linewidth=2)\n",
    "\n",
    "    all_joints = kpt_3d\n",
    "    all_joints[:, 1] *= -1\n",
    "    bb_min = all_joints.min(axis=0)\n",
    "    bb_max = all_joints.max(axis=0)\n",
    "    bb_center = (bb_max + bb_min) * 0.5\n",
    "    max_dist = np.abs(bb_max - bb_min).max() / 2\n",
    "    bb_min, bb_max = bb_center - max_dist, bb_center + max_dist\n",
    "    ax.set_xlim([bb_min[0], bb_max[0]])\n",
    "    ax.set_ylim([bb_min[2], bb_max[2]])\n",
    "    ax.set_zlim([bb_min[1], bb_max[1]])\n",
    "\n",
    "    # Z and Y are swapped\n",
    "    ax.set_xlabel('X')\n",
    "    ax.set_ylabel('Z')\n",
    "    ax.set_zlabel('Y')\n",
    "\n",
    "    ax.view_init(elev=11, azim=-82)\n",
    "    plt.title('Output: Person in 3d unit mm space')\n",
    "\n",
    "    #rotate the data by changing this\n",
    "    ax.view_init(0, -90)\n",
    "    plt.draw()\n",
    "\n",
    "vis_3d_skeleton(sample_3d)"
   ]
  },
  {
   "cell_type": "code",
   "execution_count": 19,
   "metadata": {},
   "outputs": [
    {
     "name": "stdout",
     "output_type": "stream",
     "text": [
      "(222514, 32)\n",
      "(222514, 45)\n",
      "(8000, 32)\n",
      "(8000, 45)\n"
     ]
    }
   ],
   "source": [
    "#### logistc regression, use samples to train and test\n",
    "### I encourage you to try random forest as several paper in 3d human pose esitmation shows random forest gives good results\n",
    "### but you have to think ways to incorporate geometry information [extra faetures]\n",
    "X = np.reshape(gt_2d_train,(gt_2d_train.shape[0],16*2))\n",
    "Y = np.reshape(gt_3d_train_rel,(gt_3d_train_rel.shape[0],15*3))\n",
    "X_val = np.reshape(gt_2d_val,(gt_2d_val.shape[0],16*2))\n",
    "Y_val = np.reshape(gt_3d_val_rel,(gt_3d_val_rel.shape[0],15*3))\n",
    "print(X.shape)\n",
    "print(Y.shape)\n",
    "print(X_val.shape)\n",
    "print(Y_val.shape)"
   ]
  },
  {
   "cell_type": "code",
   "execution_count": 1019,
   "metadata": {},
   "outputs": [],
   "source": [
    "#loss function\n",
    "#Our professer will use this to calculate the final score\n",
    "def MPJPE_error(gt, pred):\n",
    "    error =  (gt-pred) **2\n",
    "    pjpe = np.sum(error,2) ** (1/2)\n",
    "    mpjpe = np.mean(pjpe)\n",
    "    return mpjpe"
   ]
  },
  {
   "cell_type": "markdown",
   "metadata": {},
   "source": [
    "# Data Visulization"
   ]
  },
  {
   "cell_type": "markdown",
   "metadata": {},
   "source": [
    "# Discovery 1"
   ]
  },
  {
   "cell_type": "markdown",
   "metadata": {},
   "source": [
    "The model we are predicting are human. So they should have the same length of arms, legs, shouders and so on.\n",
    "\n",
    "So I calculated some value and my guess is true.\n",
    "\n",
    "However, I don't know what we can do to take advantage of this fact."
   ]
  },
  {
   "cell_type": "code",
   "execution_count": 1025,
   "metadata": {},
   "outputs": [],
   "source": [
    "def distanceSqar3D(p10,p11,p12,p20,p21,p22):\n",
    "    return np.sqrt(kb.square(p10 - p11) + kb.square(p12 - p20) + kb.square(p21 - p22))"
   ]
  },
  {
   "cell_type": "code",
   "execution_count": 1026,
   "metadata": {},
   "outputs": [
    {
     "name": "stdout",
     "output_type": "stream",
     "text": [
      "Difference between two legs: 2.6427365268750792e-05\n"
     ]
    }
   ],
   "source": [
    "#小腿\n",
    "first = 0*3\n",
    "second = 4*3\n",
    "d_left = distanceSqar3D(Y[:,first], Y[:,first+3], Y[:,first+1], Y[:,first+1+3], Y[:,first+2], Y[:,first+2+3])\n",
    "d_right = distanceSqar3D(Y[:,second], Y[:,second+3], Y[:,second+1], Y[:,second+1+3], Y[:,second+2], Y[:,second+2+3])\n",
    "dmean = np.mean(np.sqrt((d_left - d_right)**2))\n",
    "print(\"Difference between two legs:\", dmean)"
   ]
  },
  {
   "cell_type": "code",
   "execution_count": 1027,
   "metadata": {},
   "outputs": [
    {
     "name": "stdout",
     "output_type": "stream",
     "text": [
      "Difference between two legs: -8.332049453835924e-08\n"
     ]
    }
   ],
   "source": [
    "#大腿\n",
    "first = 1*3\n",
    "second = 3*3\n",
    "d_left = distanceSqar3D(Y[:,first], Y[:,first+3], Y[:,first+1], Y[:,first+1+3], Y[:,first+2], Y[:,first+2+3])\n",
    "d_right = distanceSqar3D(Y[:,second], Y[:,second+3], Y[:,second+1], Y[:,second+1+3], Y[:,second+2], Y[:,second+2+3])\n",
    "dmean = np.mean(d_left - d_right)\n",
    "print(\"Difference between two legs:\", dmean)"
   ]
  },
  {
   "cell_type": "code",
   "execution_count": 1028,
   "metadata": {},
   "outputs": [
    {
     "name": "stdout",
     "output_type": "stream",
     "text": [
      "Difference between two arms: 8.52816598894868e-08\n"
     ]
    }
   ],
   "source": [
    "#小臂\n",
    "first = 9*3\n",
    "second = 13*3\n",
    "d_left = distanceSqar3D(Y[:,first], Y[:,first+3], Y[:,first+1], Y[:,first+1+3], Y[:,first+2], Y[:,first+2+3])\n",
    "d_right = distanceSqar3D(Y[:,second], Y[:,second+3], Y[:,second+1], Y[:,second+1+3], Y[:,second+2], Y[:,second+2+3])\n",
    "dmean = np.mean(d_left - d_right)\n",
    "print(\"Difference between two arms:\", dmean)"
   ]
  },
  {
   "cell_type": "code",
   "execution_count": 1030,
   "metadata": {},
   "outputs": [
    {
     "name": "stdout",
     "output_type": "stream",
     "text": [
      "Difference between two arms: 1.2882067756260924e-07\n"
     ]
    }
   ],
   "source": [
    "#大臂\n",
    "first = 10*3\n",
    "second = 12*3\n",
    "d_left = distanceSqar3D(Y[:,first], Y[:,first+3], Y[:,first+1], Y[:,first+1+3], Y[:,first+2], Y[:,first+2+3])\n",
    "d_right = distanceSqar3D(Y[:,second], Y[:,second+3], Y[:,second+1], Y[:,second+1+3], Y[:,second+2], Y[:,second+2+3])\n",
    "dmean = np.mean(d_left - d_right)\n",
    "print(\"Difference between two arms:\", dmean)"
   ]
  },
  {
   "cell_type": "code",
   "execution_count": 1031,
   "metadata": {},
   "outputs": [
    {
     "name": "stdout",
     "output_type": "stream",
     "text": [
      "Difference between two shoulders: 1.239491754732918e-15\n"
     ]
    }
   ],
   "source": [
    "#肩膀\n",
    "six = 6*3\n",
    "three = 11*3\n",
    "four = 12*3\n",
    "d_left = distanceSqar3D(Y[:,three], Y[:,six], Y[:,three+1], Y[:,six+1], Y[:,three+2], Y[:,six+2])\n",
    "d_right = distanceSqar3D(Y[:,four], Y[:,six], Y[:,four+1], Y[:,six+1], Y[:,four+2], Y[:,six+2])\n",
    "dmean = np.mean(d_left - d_right)\n",
    "print(\"Difference between two shoulders:\", dmean)"
   ]
  },
  {
   "cell_type": "code",
   "execution_count": null,
   "metadata": {},
   "outputs": [],
   "source": []
  },
  {
   "cell_type": "markdown",
   "metadata": {},
   "source": [
    "# Discovery 2"
   ]
  },
  {
   "cell_type": "markdown",
   "metadata": {},
   "source": [
    "x, y for 2D is not the same as x, y for 3D\n",
    "\n",
    "1. By printing out 2D and 3D graph, we can see they looks similiar, but not exact the same. So we have to predict x, y, z at the same time, not just z it self\n",
    "2. We cannot manually rotate them, either, because different images are filmed in different directions"
   ]
  },
  {
   "cell_type": "code",
   "execution_count": 1062,
   "metadata": {},
   "outputs": [
    {
     "data": {
      "image/png": "[encoded data removed]",
      "text/plain": [
       "<Figure size 720x360 with 1 Axes>"
      ]
     },
     "metadata": {
      "needs_background": "light"
     },
     "output_type": "display_data"
    },
    {
     "data": {
      "image/png": "[encoded data removed]",
      "text/plain": [
       "<Figure size 432x288 with 1 Axes>"
      ]
     },
     "metadata": {
      "needs_background": "light"
     },
     "output_type": "display_data"
    }
   ],
   "source": [
    "my_vis_3d_skeleton(Y_reshape_back[122])\n",
    "plt.show()\n",
    "X_val_reshaped_img = show2D(X[122])\n",
    "plt.imshow(X_val_reshaped_img)\n",
    "plt.show()"
   ]
  },
  {
   "cell_type": "code",
   "execution_count": 1061,
   "metadata": {},
   "outputs": [],
   "source": [
    "def my_vis_3d_skeleton(kpt_3d_gt_old): \n",
    "    kpt_3d = np.zeros((16,3))\n",
    "    kpt_3d[:6,:] = kpt_3d_gt_old[:6,:]\n",
    "    kpt_3d[7:,:] = kpt_3d_gt_old[6:,:]\n",
    "    fig = plt.figure(figsize=(10,5))\n",
    "    ax = fig.add_subplot(111, projection='3d')\n",
    "    for j in range(16):\n",
    "        if j == 7:\n",
    "            continue\n",
    "        ax.scatter(kpt_3d[j, 0], kpt_3d[j, 2], -kpt_3d[j, 1], c='k', marker='o')\n",
    "    edges_left = [ [0,1], [1,2],[2,6],[10,11],[12,8],[11,12]]\n",
    "    edges_middle = [[6, 8],[8, 9]]\n",
    "    edges = [[0, 1], [1, 2], [2, 6], [6, 3], [3, 4], [4, 5],\n",
    "             [10, 11], [11, 12], [12, 8], [8, 13], [13, 14], [14, 15],\n",
    "             [6, 8], [8, 9]]\n",
    "    for l in range(len(edges)):\n",
    "        i1 = edges[l][0]\n",
    "        i2 = edges[l][1]\n",
    "        x2 = np.array([kpt_3d[i1, 0], kpt_3d[i2, 0]])\n",
    "        y2 = np.array([kpt_3d[i1, 1], kpt_3d[i2, 1]])\n",
    "        z2 = np.array([kpt_3d[i1, 2], kpt_3d[i2, 2]])        \n",
    "        if edges[l] in edges_left:\n",
    "            ax.plot(x2, z2, -y2, c='b', linewidth=2)\n",
    "        elif edges[l] in edges_middle:    \n",
    "            ax.plot(x2, z2, -y2, c='m', linewidth=2)\n",
    "        else:\n",
    "            ax.plot(x2, z2, -y2, c='r', linewidth=2)\n",
    "\n",
    "    all_joints = kpt_3d\n",
    "    all_joints[:, 1] *= -1\n",
    "    bb_min = all_joints.min(axis=0)\n",
    "    bb_max = all_joints.max(axis=0)\n",
    "    bb_center = (bb_max + bb_min) * 0.5\n",
    "    max_dist = np.abs(bb_max - bb_min).max() / 2\n",
    "    bb_min, bb_max = bb_center - max_dist, bb_center + max_dist\n",
    "    ax.set_xlim([bb_min[0], bb_max[0]])\n",
    "    ax.set_ylim([bb_min[2], bb_max[2]])\n",
    "    ax.set_zlim([bb_min[1], bb_max[1]])\n",
    "\n",
    "    # Z and Y are swapped\n",
    "    ax.set_xlabel('X')\n",
    "    ax.set_ylabel('Z')\n",
    "    ax.set_zlabel('Y')\n",
    "\n",
    "    ax.view_init(elev=11, azim=-82)\n",
    "    plt.title('Output: Person in 3d unit mm space')\n",
    "#     for angle in range(0, 360):\n",
    "    ax.view_init(0, -90)\n",
    "#     ax.grid(False)\n",
    "    plt.draw()\n",
    "#     plt.pause(.001)"
   ]
  },
  {
   "cell_type": "markdown",
   "metadata": {},
   "source": [
    "# Training"
   ]
  },
  {
   "cell_type": "markdown",
   "metadata": {},
   "source": [
    "# Linear Regression 2nd Poly of 561 features"
   ]
  },
  {
   "cell_type": "code",
   "execution_count": 1008,
   "metadata": {},
   "outputs": [
    {
     "name": "stdout",
     "output_type": "stream",
     "text": [
      "(222514, 561)\n"
     ]
    }
   ],
   "source": [
    "poly_2 = PolynomialFeatures(2, order = 'C')\n",
    "poly_newX = poly_2.fit_transform(X)\n",
    "print(poly_newX.shape)"
   ]
  },
  {
   "cell_type": "code",
   "execution_count": 1009,
   "metadata": {},
   "outputs": [
    {
     "data": {
      "text/plain": [
       "LinearRegression(copy_X=True, fit_intercept=True, n_jobs=None, normalize=False)"
      ]
     },
     "execution_count": 1009,
     "metadata": {},
     "output_type": "execute_result"
    }
   ],
   "source": [
    "regr = linear_model.LinearRegression()\n",
    "regr.fit(poly_newX, Y)"
   ]
  },
  {
   "cell_type": "code",
   "execution_count": 1013,
   "metadata": {},
   "outputs": [
    {
     "name": "stdout",
     "output_type": "stream",
     "text": [
      "training loss: 75.14486106555218\n",
      "validation loss 85.29656231121031\n"
     ]
    }
   ],
   "source": [
    "Y_pred = regr.predict(poly_newX)\n",
    "Y_pred_reshape = np.reshape(Y_pred,(Y_pred.shape[0],15,3))\n",
    "print(\"training loss:\", MPJPE_error(Y.reshape(-1,15,3),Y_pred_reshape))\n",
    "\n",
    "Y_val_pred = regr.predict(poly_2.fit_transform((X_val)))\n",
    "Y_val_pred_reshape = np.reshape(Y_val_pred,(Y_val_pred.shape[0],15,3))\n",
    "print(\"validation loss\", MPJPE_error(gt_3d_val_rel,Y_val_pred_reshape))"
   ]
  },
  {
   "cell_type": "markdown",
   "metadata": {},
   "source": [
    "# Linear Regression 2nd Ploy of 65 features"
   ]
  },
  {
   "cell_type": "code",
   "execution_count": 1004,
   "metadata": {},
   "outputs": [],
   "source": [
    "def PolyDegree2(nparr):\n",
    "    return np.hstack((np.ones(nparr.shape[0]).reshape((-1,1)), nparr, np.square(nparr)))"
   ]
  },
  {
   "cell_type": "code",
   "execution_count": 1005,
   "metadata": {},
   "outputs": [
    {
     "data": {
      "text/plain": [
       "LinearRegression(copy_X=True, fit_intercept=True, n_jobs=None, normalize=False)"
      ]
     },
     "execution_count": 1005,
     "metadata": {},
     "output_type": "execute_result"
    }
   ],
   "source": [
    "my_poly2_newX = PolyDegree2(X)\n",
    "regr = linear_model.LinearRegression()\n",
    "regr.fit(my_poly2_newX, Y)"
   ]
  },
  {
   "cell_type": "code",
   "execution_count": 1007,
   "metadata": {},
   "outputs": [
    {
     "name": "stdout",
     "output_type": "stream",
     "text": [
      "training loss: 102.60104123723387\n",
      "validation loss 101.86806685429849\n"
     ]
    }
   ],
   "source": [
    "Y_pred = regr.predict(my_poly2_newX)\n",
    "Y_pred_reshape = np.reshape(Y_pred,(Y_pred.shape[0],15,3))\n",
    "print(\"training loss:\", MPJPE_error(Y.reshape(-1,15,3),Y_pred_reshape))\n",
    "\n",
    "Y_val_pred = regr.predict(PolyDegree2(X_val))\n",
    "Y_val_pred_reshape = np.reshape(Y_val_pred,(Y_val_pred.shape[0],15,3))\n",
    "print(\"validation loss\", MPJPE_error(gt_3d_val_rel,Y_val_pred_reshape))"
   ]
  },
  {
   "cell_type": "markdown",
   "metadata": {},
   "source": [
    "# Linear Regression 3rd Ploy of 97 features"
   ]
  },
  {
   "cell_type": "code",
   "execution_count": 1001,
   "metadata": {},
   "outputs": [],
   "source": [
    "def PolyDegree3(nparr):\n",
    "    return np.hstack((np.ones(nparr.shape[0]).reshape((-1,1)), nparr, np.square(nparr), np.power(nparr,3)))"
   ]
  },
  {
   "cell_type": "code",
   "execution_count": 1002,
   "metadata": {},
   "outputs": [
    {
     "data": {
      "text/plain": [
       "LinearRegression(copy_X=True, fit_intercept=True, n_jobs=None, normalize=False)"
      ]
     },
     "execution_count": 1002,
     "metadata": {},
     "output_type": "execute_result"
    }
   ],
   "source": [
    "my_poly3_newX = PolyDegree3(X)\n",
    "regr = linear_model.LinearRegression()\n",
    "regr.fit(my_poly3_newX, Y)"
   ]
  },
  {
   "cell_type": "code",
   "execution_count": 1003,
   "metadata": {},
   "outputs": [
    {
     "name": "stdout",
     "output_type": "stream",
     "text": [
      "training loss: 97.18983053950926\n",
      "validation loss 96.89555609146531\n"
     ]
    }
   ],
   "source": [
    "Y_pred = regr.predict(my_poly3_newX)\n",
    "Y_pred_reshape = np.reshape(Y_pred,(Y_pred.shape[0],15,3))\n",
    "print(\"training loss:\", MPJPE_error(Y.reshape(-1,15,3),Y_pred_reshape))\n",
    "\n",
    "Y_val_pred = regr.predict(PolyDegree3(X_val))\n",
    "Y_val_pred_reshape = np.reshape(Y_val_pred,(Y_val_pred.shape[0],15,3))\n",
    "print(\"validation loss\", MPJPE_error(gt_3d_val_rel,Y_val_pred_reshape))"
   ]
  },
  {
   "cell_type": "markdown",
   "metadata": {},
   "source": [
    "# Linear Regression 2nd Ploy of self-defined 561 features"
   ]
  },
  {
   "cell_type": "markdown",
   "metadata": {},
   "source": [
    "if x=[a, b, c], ploy(x)=[1, a, b, c, a^2, b^2, c^2, (a^2-b^2)^1/2, (a^2-c^2)^1/2, (b^2-c^2)^1/2] \n",
    "\n",
    "very silly try, because this self-defined ploy has exact the same performance as the poly from the sklearn library"
   ]
  },
  {
   "cell_type": "code",
   "execution_count": 997,
   "metadata": {},
   "outputs": [],
   "source": [
    "def myPolyDegree2(nparr):\n",
    "    squares = np.square(nparr)\n",
    "    minus = np.zeros((nparr.shape[0], nparr.shape[1]*(nparr.shape[1]-1)//2))\n",
    "    index = 0\n",
    "    for i in range(nparr.shape[1]):\n",
    "        for j in range(i+1, nparr.shape[1]):\n",
    "            minus[:,index] = np.square(nparr[:,i] - nparr[:,j])\n",
    "            index += 1\n",
    "    return np.hstack((np.ones(nparr.shape[0]).reshape((-1,1)), nparr, np.square(nparr), minus))"
   ]
  },
  {
   "cell_type": "code",
   "execution_count": 998,
   "metadata": {},
   "outputs": [
    {
     "data": {
      "text/plain": [
       "LinearRegression(copy_X=True, fit_intercept=True, n_jobs=None, normalize=False)"
      ]
     },
     "execution_count": 998,
     "metadata": {},
     "output_type": "execute_result"
    }
   ],
   "source": [
    "my_myPoly2_newX = myPolyDegree2(X)\n",
    "regr = linear_model.LinearRegression()\n",
    "regr.fit(my_myPoly2_newX, Y)"
   ]
  },
  {
   "cell_type": "code",
   "execution_count": 1000,
   "metadata": {},
   "outputs": [
    {
     "name": "stdout",
     "output_type": "stream",
     "text": [
      "training loss: 75.14263145963959\n",
      "validation loss 85.35487767999007\n"
     ]
    }
   ],
   "source": [
    "Y_pred = regr.predict(my_myPoly2_newX)\n",
    "Y_pred_reshape = np.reshape(Y_pred,(Y_pred.shape[0],15,3))\n",
    "print(\"training loss:\", MPJPE_error(Y.reshape(-1,15,3),Y_pred_reshape))\n",
    "\n",
    "Y_val_pred = regr.predict(myPolyDegree2(X_val))\n",
    "Y_val_pred_reshape = np.reshape(Y_val_pred,(Y_val_pred.shape[0],15,3))\n",
    "print(\"validation loss\", MPJPE_error(gt_3d_val_rel,Y_val_pred_reshape))"
   ]
  },
  {
   "cell_type": "markdown",
   "metadata": {},
   "source": [
    "# Linear Regression 2nd Ploy of 1961 features"
   ]
  },
  {
   "cell_type": "markdown",
   "metadata": {},
   "source": [
    "Add the data info of ray tracing\n",
    "\n",
    "Still not good enough"
   ]
  },
  {
   "cell_type": "code",
   "execution_count": null,
   "metadata": {},
   "outputs": [],
   "source": [
    "train_X = np.concatenate((scaler2.transform(ploy_X), \n",
    "                            scaler64.transform(J_train_gt_mdp_enc2_15.reshape((J_train_gt_mdp_enc2_15.shape[0],-1))), \n",
    "                            scaler15.transform(J_train_gt_mdp_15.reshape((J_train_gt_mdp_15.shape[0],-1))), \n",
    "                            scaler15d.transform(train_gt_mdp_15.reshape((train_gt_mdp_15.shape[0],-1)))),axis = 1)\n",
    "train_Y = gt_3d_train_rel.reshape((gt_3d_train_rel.shape[0]),-1)\n",
    "val_X = np.concatenate((scaler2.transform(ploy_val_X), \n",
    "                            scaler64.transform(J_val_gt_mdp_enc2_15.reshape((J_val_gt_mdp_enc2_15.shape[0],-1))), \n",
    "                            scaler15.transform(J_val_gt_mdp_15.reshape((J_val_gt_mdp_15.shape[0],-1))), \n",
    "                            scaler15d.transform(val_gt_mdp_15.reshape((val_gt_mdp_15.shape[0],-1)))),axis = 1)\n",
    "val_Y = gt_3d_val_rel.reshape((gt_3d_val_rel.shape[0]),-1)"
   ]
  },
  {
   "cell_type": "code",
   "execution_count": 1015,
   "metadata": {},
   "outputs": [
    {
     "data": {
      "text/plain": [
       "LinearRegression(copy_X=True, fit_intercept=True, n_jobs=None, normalize=False)"
      ]
     },
     "execution_count": 1015,
     "metadata": {},
     "output_type": "execute_result"
    }
   ],
   "source": [
    "regr = linear_model.LinearRegression()\n",
    "regr.fit(train_X, train_Y)"
   ]
  },
  {
   "cell_type": "code",
   "execution_count": 1017,
   "metadata": {},
   "outputs": [
    {
     "name": "stdout",
     "output_type": "stream",
     "text": [
      "training loss: 72.29738254630814\n",
      "validation loss 84.3675503058355\n"
     ]
    }
   ],
   "source": [
    "Y_pred = regr.predict(train_X)\n",
    "Y_pred_reshape = np.reshape(Y_pred,(Y_pred.shape[0],15,3))\n",
    "print(\"training loss:\", MPJPE_error(train_Y.reshape(-1,15,3),Y_pred_reshape))\n",
    "\n",
    "Y_val_pred = regr.predict(val_X)\n",
    "Y_val_pred_reshape = np.reshape(Y_val_pred,(Y_val_pred.shape[0],15,3))\n",
    "print(\"validation loss\", MPJPE_error(gt_3d_val_rel,Y_val_pred_reshape))"
   ]
  },
  {
   "cell_type": "markdown",
   "metadata": {},
   "source": [
    "# Linear Regression 3rd Ploy of 6545 features"
   ]
  },
  {
   "cell_type": "code",
   "execution_count": null,
   "metadata": {},
   "outputs": [],
   "source": [
    "#TODO: Try this on a better with better CPU"
   ]
  },
  {
   "cell_type": "code",
   "execution_count": null,
   "metadata": {},
   "outputs": [],
   "source": [
    "#If it takes a very long time to run this block, try not to run the second one. It will take forever\n",
    "poly_3 = PolynomialFeatures(3, order = 'C')\n",
    "poly3_newX = poly_3.fit_transform(X[:200])\n",
    "print(poly3_newX.shape)"
   ]
  },
  {
   "cell_type": "code",
   "execution_count": null,
   "metadata": {},
   "outputs": [],
   "source": [
    "regr = linear_model.LinearRegression()\n",
    "regr.fit(poly_newX, Y)"
   ]
  },
  {
   "cell_type": "code",
   "execution_count": null,
   "metadata": {},
   "outputs": [],
   "source": [
    "Y_pred = regr.predict(poly_newX)\n",
    "Y_pred_reshape = np.reshape(Y_pred,(Y_pred.shape[0],15,3))\n",
    "print(\"training loss:\", MPJPE_error(Y.reshape(-1,15,3),Y_pred_reshape))\n",
    "\n",
    "Y_val_pred = regr.predict(poly_2_inter_only.fit_transform(addfeatures(X_val)))\n",
    "Y_val_pred_reshape = np.reshape(Y_val_pred,(Y_val_pred.shape[0],15,3))\n",
    "print(\"validation loss\", MPJPE_error(gt_3d_val_rel,Y_val_pred_reshape))"
   ]
  },
  {
   "cell_type": "code",
   "execution_count": null,
   "metadata": {},
   "outputs": [],
   "source": []
  },
  {
   "cell_type": "markdown",
   "metadata": {},
   "source": [
    "# Summary for linear regression model"
   ]
  },
  {
   "cell_type": "markdown",
   "metadata": {},
   "source": [
    "Linear model does not have very good performance, and it is always underfitting\n",
    "\n",
    "We need to try more complex models"
   ]
  },
  {
   "cell_type": "code",
   "execution_count": null,
   "metadata": {},
   "outputs": [],
   "source": []
  },
  {
   "cell_type": "code",
   "execution_count": null,
   "metadata": {},
   "outputs": [],
   "source": []
  },
  {
   "cell_type": "code",
   "execution_count": 1138,
   "metadata": {},
   "outputs": [],
   "source": [
    "import numpy as np\n",
    "import keras\n",
    "import keras.backend as kb\n",
    "import tensorflow as tf"
   ]
  },
  {
   "cell_type": "code",
   "execution_count": 1139,
   "metadata": {},
   "outputs": [],
   "source": [
    "import os\n",
    "from keras.models import model_from_json\n",
    "from keras.layers import Dense"
   ]
  },
  {
   "cell_type": "code",
   "execution_count": null,
   "metadata": {},
   "outputs": [],
   "source": [
    "#define my own loss function\n",
    "#this is basically MSE, but we can change it as we need (such as adding a regularization)\n",
    "def myLoss(real, pred):\n",
    "    return kb.mean(kb.sum(kb.square((real-pred))))/1000000"
   ]
  },
  {
   "cell_type": "code",
   "execution_count": null,
   "metadata": {},
   "outputs": [],
   "source": [
    "#write the loss function one more time for convinence\n",
    "def MPJPE_error(gt, pred):\n",
    "    error =  (gt-pred) **2\n",
    "    pjpe = np.sum(error,2) ** (1/2)\n",
    "    mpjpe = np.mean(pjpe)\n",
    "    return mpjpe"
   ]
  },
  {
   "cell_type": "code",
   "execution_count": null,
   "metadata": {},
   "outputs": [],
   "source": []
  },
  {
   "cell_type": "code",
   "execution_count": null,
   "metadata": {},
   "outputs": [],
   "source": []
  },
  {
   "cell_type": "code",
   "execution_count": 1175,
   "metadata": {},
   "outputs": [
    {
     "ename": "AttributeError",
     "evalue": "type object 'sklearn.tree._criterion.array' has no attribute '__reduce_cython__'",
     "output_type": "error",
     "traceback": [
      "\u001b[0;31m---------------------------------------------------------------------------\u001b[0m",
      "\u001b[0;31mAttributeError\u001b[0m                            Traceback (most recent call last)",
      "\u001b[0;32m<ipython-input-1175-371378d9b90b>\u001b[0m in \u001b[0;36m<module>\u001b[0;34m\u001b[0m\n\u001b[0;32m----> 1\u001b[0;31m \u001b[0;32mfrom\u001b[0m \u001b[0msklearn\u001b[0m\u001b[0;34m.\u001b[0m\u001b[0mtree\u001b[0m \u001b[0;32mimport\u001b[0m \u001b[0mDecisionTreeRegressor\u001b[0m\u001b[0;34m\u001b[0m\u001b[0;34m\u001b[0m\u001b[0m\n\u001b[0m",
      "\u001b[0;32m/opt/anaconda3/lib/python3.7/site-packages/sklearn/tree/__init__.py\u001b[0m in \u001b[0;36m<module>\u001b[0;34m\u001b[0m\n\u001b[1;32m      4\u001b[0m \"\"\"\n\u001b[1;32m      5\u001b[0m \u001b[0;34m\u001b[0m\u001b[0m\n\u001b[0;32m----> 6\u001b[0;31m \u001b[0;32mfrom\u001b[0m \u001b[0;34m.\u001b[0m\u001b[0mtree\u001b[0m \u001b[0;32mimport\u001b[0m \u001b[0mDecisionTreeClassifier\u001b[0m\u001b[0;34m\u001b[0m\u001b[0;34m\u001b[0m\u001b[0m\n\u001b[0m\u001b[1;32m      7\u001b[0m \u001b[0;32mfrom\u001b[0m \u001b[0;34m.\u001b[0m\u001b[0mtree\u001b[0m \u001b[0;32mimport\u001b[0m \u001b[0mDecisionTreeRegressor\u001b[0m\u001b[0;34m\u001b[0m\u001b[0;34m\u001b[0m\u001b[0m\n\u001b[1;32m      8\u001b[0m \u001b[0;32mfrom\u001b[0m \u001b[0;34m.\u001b[0m\u001b[0mtree\u001b[0m \u001b[0;32mimport\u001b[0m \u001b[0mExtraTreeClassifier\u001b[0m\u001b[0;34m\u001b[0m\u001b[0;34m\u001b[0m\u001b[0m\n",
      "\u001b[0;32m/opt/anaconda3/lib/python3.7/site-packages/sklearn/tree/tree.py\u001b[0m in \u001b[0;36m<module>\u001b[0;34m\u001b[0m\n\u001b[1;32m     37\u001b[0m \u001b[0;32mfrom\u001b[0m \u001b[0;34m.\u001b[0m\u001b[0;34m.\u001b[0m\u001b[0mutils\u001b[0m\u001b[0;34m.\u001b[0m\u001b[0mvalidation\u001b[0m \u001b[0;32mimport\u001b[0m \u001b[0mcheck_is_fitted\u001b[0m\u001b[0;34m\u001b[0m\u001b[0;34m\u001b[0m\u001b[0m\n\u001b[1;32m     38\u001b[0m \u001b[0;34m\u001b[0m\u001b[0m\n\u001b[0;32m---> 39\u001b[0;31m \u001b[0;32mfrom\u001b[0m \u001b[0;34m.\u001b[0m\u001b[0m_criterion\u001b[0m \u001b[0;32mimport\u001b[0m \u001b[0mCriterion\u001b[0m\u001b[0;34m\u001b[0m\u001b[0;34m\u001b[0m\u001b[0m\n\u001b[0m\u001b[1;32m     40\u001b[0m \u001b[0;32mfrom\u001b[0m \u001b[0;34m.\u001b[0m\u001b[0m_splitter\u001b[0m \u001b[0;32mimport\u001b[0m \u001b[0mSplitter\u001b[0m\u001b[0;34m\u001b[0m\u001b[0;34m\u001b[0m\u001b[0m\n\u001b[1;32m     41\u001b[0m \u001b[0;32mfrom\u001b[0m \u001b[0;34m.\u001b[0m\u001b[0m_tree\u001b[0m \u001b[0;32mimport\u001b[0m \u001b[0mDepthFirstTreeBuilder\u001b[0m\u001b[0;34m\u001b[0m\u001b[0;34m\u001b[0m\u001b[0m\n",
      "\u001b[0;32m/opt/anaconda3/lib/python3.7/site-packages/sklearn/tree/_criterion.cpython-37m-darwin.so\u001b[0m in \u001b[0;36minit sklearn.tree._criterion\u001b[0;34m()\u001b[0m\n",
      "\u001b[0;31mAttributeError\u001b[0m: type object 'sklearn.tree._criterion.array' has no attribute '__reduce_cython__'"
     ]
    }
   ],
   "source": [
    "from sklearn.tree import DecisionTreeRegressor"
   ]
  },
  {
   "cell_type": "code",
   "execution_count": 1174,
   "metadata": {},
   "outputs": [
    {
     "name": "stdout",
     "output_type": "stream",
     "text": [
      "Collecting package metadata (current_repodata.json): done\n",
      "Solving environment: - \n",
      "\n",
      "Updating scikit-learn is constricted by \n",
      "\n",
      "anaconda -> requires scikit-learn==0.21.3=py37h27c97d8_0\n",
      "\n",
      "If you are sure you want an update of your package either try `conda update --all` or install a specific version of the package you want using `conda install <pkg>=<version>`\n",
      "\n",
      "done\n",
      "\n",
      "# All requested packages already installed.\n",
      "\n",
      "\n",
      "Note: you may need to restart the kernel to use updated packages.\n"
     ]
    }
   ],
   "source": [
    "conda update scikit-learn"
   ]
  },
  {
   "cell_type": "code",
   "execution_count": null,
   "metadata": {},
   "outputs": [],
   "source": []
  },
  {
   "cell_type": "code",
   "execution_count": null,
   "metadata": {},
   "outputs": [],
   "source": []
  },
  {
   "cell_type": "code",
   "execution_count": null,
   "metadata": {},
   "outputs": [],
   "source": []
  },
  {
   "cell_type": "code",
   "execution_count": null,
   "metadata": {},
   "outputs": [],
   "source": []
  },
  {
   "cell_type": "code",
   "execution_count": null,
   "metadata": {},
   "outputs": [],
   "source": []
  },
  {
   "cell_type": "code",
   "execution_count": null,
   "metadata": {},
   "outputs": [],
   "source": []
  },
  {
   "cell_type": "code",
   "execution_count": null,
   "metadata": {},
   "outputs": [],
   "source": []
  },
  {
   "cell_type": "code",
   "execution_count": null,
   "metadata": {},
   "outputs": [],
   "source": []
  },
  {
   "cell_type": "code",
   "execution_count": null,
   "metadata": {},
   "outputs": [],
   "source": []
  },
  {
   "cell_type": "markdown",
   "metadata": {},
   "source": [
    "# Deep Learning Model 1"
   ]
  },
  {
   "cell_type": "markdown",
   "metadata": {},
   "source": [
    "training loss = 65, validation loss = 79\n",
    "这个model的train set没有包含 ray tracing 的数据，所以结果并不是很好，可以忽略"
   ]
  },
  {
   "cell_type": "code",
   "execution_count": 1078,
   "metadata": {},
   "outputs": [
    {
     "name": "stdout",
     "output_type": "stream",
     "text": [
      "Model: \"sequential_14\"\n",
      "_________________________________________________________________\n",
      "Layer (type)                 Output Shape              Param #   \n",
      "=================================================================\n",
      "dense_37 (Dense)             (None, 561)               315282    \n",
      "_________________________________________________________________\n",
      "dense_38 (Dense)             (None, 150)               84300     \n",
      "_________________________________________________________________\n",
      "dense_39 (Dense)             (None, 45)                6795      \n",
      "=================================================================\n",
      "Total params: 406,377\n",
      "Trainable params: 406,377\n",
      "Non-trainable params: 0\n",
      "_________________________________________________________________\n",
      "None\n",
      "Model: \"sequential_55\"\n",
      "_________________________________________________________________\n",
      "Layer (type)                 Output Shape              Param #   \n",
      "=================================================================\n",
      "dense_211 (Dense)            (None, 1971)              3886812   \n",
      "_________________________________________________________________\n",
      "dense_212 (Dense)            (None, 140)               276080    \n",
      "_________________________________________________________________\n",
      "dense_213 (Dense)            (None, 45)                6345      \n",
      "=================================================================\n",
      "Total params: 4,169,237\n",
      "Trainable params: 4,169,237\n",
      "Non-trainable params: 0\n",
      "_________________________________________________________________\n",
      "None\n",
      "Model: \"sequential_85\"\n",
      "_________________________________________________________________\n",
      "Layer (type)                 Output Shape              Param #   \n",
      "=================================================================\n",
      "dense_304 (Dense)            (None, 1971)              3886812   \n",
      "_________________________________________________________________\n",
      "dense_305 (Dense)            (None, 140)               276080    \n",
      "_________________________________________________________________\n",
      "dense_306 (Dense)            (None, 45)                6345      \n",
      "=================================================================\n",
      "Total params: 4,169,237\n",
      "Trainable params: 4,169,237\n",
      "Non-trainable params: 0\n",
      "_________________________________________________________________\n",
      "None\n"
     ]
    }
   ],
   "source": [
    "print(model.summary())\n",
    "print(model2.summary())\n",
    "print(model3.summary())"
   ]
  },
  {
   "cell_type": "code",
   "execution_count": null,
   "metadata": {},
   "outputs": [],
   "source": [
    "# You don't need to run this. This is just to show how I construct the model\n",
    "\n",
    "# model = keras.Sequential([\n",
    "#     keras.layers.Dense(561, activation=tf.nn.sigmoid),\n",
    "#     keras.layers.Dense(150),\n",
    "#     keras.layers.Dense(45)\n",
    "#   ])"
   ]
  },
  {
   "cell_type": "code",
   "execution_count": null,
   "metadata": {},
   "outputs": [],
   "source": [
    "#save the model\n",
    "\n",
    "################### Do not run this before loading the model or having a better model##################\n",
    "\n",
    "# model_json = model.to_json()\n",
    "# with open(\"model.json\", \"w\") as json_file:\n",
    "#     json_file.write(model_json)\n",
    "# model.save_weights(\"model.h5\")"
   ]
  },
  {
   "cell_type": "code",
   "execution_count": 1070,
   "metadata": {},
   "outputs": [],
   "source": [
    "#load the model\n",
    "\n",
    "json_file = open('model.json', 'r')\n",
    "loaded_model_json = json_file.read()\n",
    "json_file.close()\n",
    "loaded_model = model_from_json(loaded_model_json)\n",
    "# load weights into new model\n",
    "loaded_model.load_weights(\"model.h5\")"
   ]
  },
  {
   "cell_type": "code",
   "execution_count": 1074,
   "metadata": {},
   "outputs": [],
   "source": [
    "model = loaded_model"
   ]
  },
  {
   "cell_type": "code",
   "execution_count": 953,
   "metadata": {},
   "outputs": [],
   "source": [
    "#change the traing X to the 2nd degree polynomial\n",
    "ployX = myPolyDegree2(X)"
   ]
  },
  {
   "cell_type": "code",
   "execution_count": 471,
   "metadata": {},
   "outputs": [],
   "source": [
    "from keras.regularizers import l2\n",
    "from keras.layers import Dropout\n",
    "model.add(Dense(45, kernel_regularizer=l2(0.01), bias_regularizer=l2(0.01)))"
   ]
  },
  {
   "cell_type": "code",
   "execution_count": 491,
   "metadata": {},
   "outputs": [
    {
     "name": "stdout",
     "output_type": "stream",
     "text": [
      "Epoch 1/3\n",
      "222514/222514 [==============================] - 22s 97us/step - loss: 3037629.9089\n",
      "Epoch 2/3\n",
      "222514/222514 [==============================] - 28s 126us/step - loss: 3036011.5740\n",
      "Epoch 3/3\n",
      "222514/222514 [==============================] - 28s 127us/step - loss: 3034253.5132\n"
     ]
    },
    {
     "data": {
      "text/plain": [
       "<keras.callbacks.callbacks.History at 0x23eb10310>"
      ]
     },
     "execution_count": 491,
     "metadata": {},
     "output_type": "execute_result"
    }
   ],
   "source": [
    "optimizer = tf.keras.optimizers.RMSprop(0.00002)\n",
    "model.compile(loss=myLoss,optimizer=optimizer)\n",
    "model.fit(ployX,Y,epochs=3)"
   ]
  },
  {
   "cell_type": "code",
   "execution_count": 1068,
   "metadata": {},
   "outputs": [],
   "source": [
    "#change the validation X to the 2nd degree polynomial\n",
    "\n",
    "poly_X_val = myPolyDegree2(X_val)"
   ]
  },
  {
   "cell_type": "code",
   "execution_count": 1076,
   "metadata": {},
   "outputs": [
    {
     "name": "stdout",
     "output_type": "stream",
     "text": [
      "validation loss: 78.88045127442568\n"
     ]
    }
   ],
   "source": [
    "Y_val_pred = model.predict(poly_X_val)\n",
    "Y_val_pred_reshape = np.reshape(Y_val_pred,(Y_val_pred.shape[0],15,3))\n",
    "print(\"validation loss:\",MPJPE_error(gt_3d_val_rel,Y_val_pred_reshape))"
   ]
  },
  {
   "cell_type": "code",
   "execution_count": 1077,
   "metadata": {},
   "outputs": [
    {
     "name": "stdout",
     "output_type": "stream",
     "text": [
      "training loss: 68.43869600880728\n"
     ]
    }
   ],
   "source": [
    "Y_pred = model.predict(polyX)\n",
    "Y_pred_reshape = np.reshape(Y_pred,(Y_pred.shape[0],15,3))\n",
    "print(\"training loss:\",MPJPE_error(Y.reshape((-1,15,3)),Y_pred_reshape))"
   ]
  },
  {
   "cell_type": "markdown",
   "metadata": {},
   "source": [
    "# Deep Learning Model 2"
   ]
  },
  {
   "cell_type": "markdown",
   "metadata": {},
   "source": [
    "training loss = 32, validation loss = 70\n",
    "\n",
    "但从Epoch中的loss结果可以看出， 这个model是可以找到training data的 global optimal的（或者说local optimal很优秀）\n",
    "但是很明显会overfitting, 所以，可以尝试加一点regularization和dropout 去一下overfitting （估计可以达到validation loss <= 65 或更低）\n",
    "\n",
    "不过要注意，\n",
    "          optimizer = tf.keras.optimizers.RMSprop(0.0002)\n",
    "中的 0.0002是learning rate， 这是数值在training的过程中是可以调整的（调整幅度大概在 0.05 - 0.00001)\n",
    "一开始也不能太大 loss = 200+ 和 = 130+ 有两个很容易到的local optimal"
   ]
  },
  {
   "cell_type": "code",
   "execution_count": null,
   "metadata": {},
   "outputs": [],
   "source": [
    "ploy_train_X = poly_test.fit_transform(gt_2d_train.reshape((gt_2d_train.shape[0],-1)))\n",
    "ploy_val_X = poly_test.fit_transform(gt_2d_val.reshape((gt_2d_val.shape[0],-1)))\n",
    "\n",
    "from sklearn.preprocessing import StandardScaler\n",
    "scaler2 = StandardScaler()\n",
    "scaler2.fit(ploy_X)\n",
    "scaler64 = StandardScaler()\n",
    "scaler64.fit(J_train_gt_mdp_enc2_15.reshape((J_train_gt_mdp_enc2_15.shape[0],-1)))\n",
    "scaler15 = StandardScaler()\n",
    "scaler15.fit(J_train_gt_mdp_15.reshape((J_train_gt_mdp_15.shape[0],-1)))\n",
    "scaler15d = StandardScaler()\n",
    "scaler15d.fit(train_gt_mdp_15.reshape((train_gt_mdp_15.shape[0],-1)))"
   ]
  },
  {
   "cell_type": "code",
   "execution_count": null,
   "metadata": {},
   "outputs": [],
   "source": [
    "train_X = np.concatenate((scaler2.transform(ploy_X), \n",
    "                          scaler64.transform(J_train_gt_mdp_enc2_15.reshape((J_train_gt_mdp_enc2_15.shape[0],-1))), \n",
    "                          scaler15.transform(J_train_gt_mdp_15.reshape((J_train_gt_mdp_15.shape[0],-1))), \n",
    "                          scaler15d.transform(train_gt_mdp_15.reshape((train_gt_mdp_15.shape[0],-1)))),axis = 1)\n",
    "train_Y = gt_3d_train_rel.reshape((gt_3d_train_rel.shape[0]),-1)\n",
    "val_X = np.concatenate((scaler2.transform(ploy_val_X), \n",
    "                        scaler64.transform(J_val_gt_mdp_enc2_15.reshape((J_val_gt_mdp_enc2_15.shape[0],-1))), \n",
    "                        scaler15.transform(J_val_gt_mdp_15.reshape((J_val_gt_mdp_15.shape[0],-1))), \n",
    "                        scaler15d.transform(val_gt_mdp_15.reshape((val_gt_mdp_15.shape[0],-1)))),axis = 1)\n",
    "val_Y = gt_3d_val_rel.reshape((gt_3d_val_rel.shape[0]),-1)"
   ]
  },
  {
   "cell_type": "code",
   "execution_count": null,
   "metadata": {},
   "outputs": [],
   "source": [
    "#save model2 to local file\n",
    "\n",
    "model2_json = model2.to_json()\n",
    "with open(\"model2.json\", \"w\") as json_file:\n",
    "    json_file.write(model2_json)\n",
    "model2.save_weights(\"model2.h5\")"
   ]
  },
  {
   "cell_type": "code",
   "execution_count": 1125,
   "metadata": {},
   "outputs": [],
   "source": [
    "#load model2 from the loacl file\n",
    "\n",
    "json_file = open('model2.json', 'r')\n",
    "loaded_model2_json = json_file.read()\n",
    "json_file.close()\n",
    "loaded_model2 = model_from_json(loaded_model2_json)\n",
    "loaded_model2.load_weights(\"model2.h5\")"
   ]
  },
  {
   "cell_type": "code",
   "execution_count": 1126,
   "metadata": {},
   "outputs": [],
   "source": [
    "model2 = loaded_model2"
   ]
  },
  {
   "cell_type": "code",
   "execution_count": 657,
   "metadata": {},
   "outputs": [],
   "source": [
    "#model 2 layer structure\n",
    "#You don't need to run this\n",
    "#如果想修改，例如+regularization 和dropout的话，可以run\n",
    "\n",
    "# model2 = keras.Sequential([\n",
    "#     keras.layers.Dense(1971, activation=tf.nn.sigmoid),\n",
    "#     keras.layers.Dense(140),\n",
    "#     keras.layers.Dense(45)\n",
    "#   ])"
   ]
  },
  {
   "cell_type": "code",
   "execution_count": 644,
   "metadata": {},
   "outputs": [
    {
     "name": "stdout",
     "output_type": "stream",
     "text": [
      "Epoch 1/30\n",
      "222514/222514 [==============================] - 360s 2ms/step - loss: 1.6772\n",
      "Epoch 2/30\n",
      "222514/222514 [==============================] - 346s 2ms/step - loss: 1.5375\n",
      "Epoch 3/30\n",
      "222514/222514 [==============================] - 328s 1ms/step - loss: 1.4298\n",
      "Epoch 4/30\n",
      "222514/222514 [==============================] - 345s 2ms/step - loss: 1.3448\n",
      "Epoch 5/30\n",
      "222514/222514 [==============================] - 359s 2ms/step - loss: 1.2747\n",
      "Epoch 6/30\n",
      "222514/222514 [==============================] - 349s 2ms/step - loss: 1.2171\n",
      "Epoch 7/30\n",
      "222514/222514 [==============================] - 337s 2ms/step - loss: 1.1701\n",
      "Epoch 8/30\n",
      "222514/222514 [==============================] - 352s 2ms/step - loss: 1.1274\n",
      "Epoch 9/30\n",
      "222514/222514 [==============================] - 356s 2ms/step - loss: 1.0915\n",
      "Epoch 10/30\n",
      "222514/222514 [==============================] - 325s 1ms/step - loss: 1.0595\n",
      "Epoch 11/30\n",
      "222514/222514 [==============================] - 323s 1ms/step - loss: 1.0312\n",
      "Epoch 12/30\n",
      "222514/222514 [==============================] - 338s 2ms/step - loss: 1.0066\n",
      "Epoch 13/30\n",
      "222514/222514 [==============================] - 347s 2ms/step - loss: 0.9837\n",
      "Epoch 14/30\n",
      "222514/222514 [==============================] - 312s 1ms/step - loss: 0.9625\n",
      "Epoch 15/30\n",
      "222514/222514 [==============================] - 323s 1ms/step - loss: 0.9440\n",
      "Epoch 16/30\n",
      "222514/222514 [==============================] - 316s 1ms/step - loss: 0.9265\n",
      "Epoch 17/30\n",
      "222514/222514 [==============================] - 322s 1ms/step - loss: 0.9107\n",
      "Epoch 18/30\n",
      "222514/222514 [==============================] - 331s 1ms/step - loss: 0.8965\n",
      "Epoch 19/30\n",
      "222514/222514 [==============================] - 329s 1ms/step - loss: 0.8825\n",
      "Epoch 20/30\n",
      "222514/222514 [==============================] - 323s 1ms/step - loss: 0.8698\n",
      "Epoch 21/30\n",
      "222514/222514 [==============================] - 350s 2ms/step - loss: 0.8575\n",
      "Epoch 22/30\n",
      "222514/222514 [==============================] - 372s 2ms/step - loss: 0.8462\n",
      "Epoch 23/30\n",
      "222514/222514 [==============================] - 350s 2ms/step - loss: 0.8360\n",
      "Epoch 24/30\n",
      "222514/222514 [==============================] - 331s 1ms/step - loss: 0.8258\n",
      "Epoch 25/30\n",
      "222514/222514 [==============================] - 310s 1ms/step - loss: 0.8166\n",
      "Epoch 26/30\n",
      "222514/222514 [==============================] - 318s 1ms/step - loss: 0.8076\n",
      "Epoch 27/30\n",
      "222514/222514 [==============================] - 322s 1ms/step - loss: 0.7991\n",
      "Epoch 28/30\n",
      " 94080/222514 [===========>..................] - ETA: 3:13 - loss: 0.7845"
     ]
    },
    {
     "ename": "KeyboardInterrupt",
     "evalue": "",
     "output_type": "error",
     "traceback": [
      "\u001b[0;31m---------------------------------------------------------------------------\u001b[0m",
      "\u001b[0;31mKeyboardInterrupt\u001b[0m                         Traceback (most recent call last)",
      "\u001b[0;32m<ipython-input-644-f39004c5c9ee>\u001b[0m in \u001b[0;36m<module>\u001b[0;34m\u001b[0m\n\u001b[1;32m      1\u001b[0m \u001b[0moptimizer\u001b[0m \u001b[0;34m=\u001b[0m \u001b[0mtf\u001b[0m\u001b[0;34m.\u001b[0m\u001b[0mkeras\u001b[0m\u001b[0;34m.\u001b[0m\u001b[0moptimizers\u001b[0m\u001b[0;34m.\u001b[0m\u001b[0mRMSprop\u001b[0m\u001b[0;34m(\u001b[0m\u001b[0;36m0.0002\u001b[0m\u001b[0;34m)\u001b[0m\u001b[0;34m\u001b[0m\u001b[0;34m\u001b[0m\u001b[0m\n\u001b[1;32m      2\u001b[0m \u001b[0mmodel2\u001b[0m\u001b[0;34m.\u001b[0m\u001b[0mcompile\u001b[0m\u001b[0;34m(\u001b[0m\u001b[0mloss\u001b[0m\u001b[0;34m=\u001b[0m\u001b[0mmyLoss\u001b[0m\u001b[0;34m,\u001b[0m\u001b[0moptimizer\u001b[0m\u001b[0;34m=\u001b[0m\u001b[0moptimizer\u001b[0m\u001b[0;34m)\u001b[0m\u001b[0;34m\u001b[0m\u001b[0;34m\u001b[0m\u001b[0m\n\u001b[0;32m----> 3\u001b[0;31m \u001b[0mmodel2\u001b[0m\u001b[0;34m.\u001b[0m\u001b[0mfit\u001b[0m\u001b[0;34m(\u001b[0m\u001b[0mtrain_X\u001b[0m\u001b[0;34m,\u001b[0m\u001b[0mtrain_Y\u001b[0m\u001b[0;34m,\u001b[0m\u001b[0mepochs\u001b[0m\u001b[0;34m=\u001b[0m\u001b[0;36m30\u001b[0m\u001b[0;34m)\u001b[0m\u001b[0;34m\u001b[0m\u001b[0;34m\u001b[0m\u001b[0m\n\u001b[0m",
      "\u001b[0;32m/opt/anaconda3/lib/python3.7/site-packages/keras/engine/training.py\u001b[0m in \u001b[0;36mfit\u001b[0;34m(self, x, y, batch_size, epochs, verbose, callbacks, validation_split, validation_data, shuffle, class_weight, sample_weight, initial_epoch, steps_per_epoch, validation_steps, validation_freq, max_queue_size, workers, use_multiprocessing, **kwargs)\u001b[0m\n\u001b[1;32m   1237\u001b[0m                                         \u001b[0msteps_per_epoch\u001b[0m\u001b[0;34m=\u001b[0m\u001b[0msteps_per_epoch\u001b[0m\u001b[0;34m,\u001b[0m\u001b[0;34m\u001b[0m\u001b[0;34m\u001b[0m\u001b[0m\n\u001b[1;32m   1238\u001b[0m                                         \u001b[0mvalidation_steps\u001b[0m\u001b[0;34m=\u001b[0m\u001b[0mvalidation_steps\u001b[0m\u001b[0;34m,\u001b[0m\u001b[0;34m\u001b[0m\u001b[0;34m\u001b[0m\u001b[0m\n\u001b[0;32m-> 1239\u001b[0;31m                                         validation_freq=validation_freq)\n\u001b[0m\u001b[1;32m   1240\u001b[0m \u001b[0;34m\u001b[0m\u001b[0m\n\u001b[1;32m   1241\u001b[0m     def evaluate(self,\n",
      "\u001b[0;32m/opt/anaconda3/lib/python3.7/site-packages/keras/engine/training_arrays.py\u001b[0m in \u001b[0;36mfit_loop\u001b[0;34m(model, fit_function, fit_inputs, out_labels, batch_size, epochs, verbose, callbacks, val_function, val_inputs, shuffle, initial_epoch, steps_per_epoch, validation_steps, validation_freq)\u001b[0m\n\u001b[1;32m    184\u001b[0m                             fit_inputs[:-1], batch_ids) + [fit_inputs[-1]]\n\u001b[1;32m    185\u001b[0m                     \u001b[0;32melse\u001b[0m\u001b[0;34m:\u001b[0m\u001b[0;34m\u001b[0m\u001b[0;34m\u001b[0m\u001b[0m\n\u001b[0;32m--> 186\u001b[0;31m                         \u001b[0mins_batch\u001b[0m \u001b[0;34m=\u001b[0m \u001b[0mslice_arrays\u001b[0m\u001b[0;34m(\u001b[0m\u001b[0mfit_inputs\u001b[0m\u001b[0;34m,\u001b[0m \u001b[0mbatch_ids\u001b[0m\u001b[0;34m)\u001b[0m\u001b[0;34m\u001b[0m\u001b[0;34m\u001b[0m\u001b[0m\n\u001b[0m\u001b[1;32m    187\u001b[0m                 \u001b[0;32mexcept\u001b[0m \u001b[0mTypeError\u001b[0m\u001b[0;34m:\u001b[0m\u001b[0;34m\u001b[0m\u001b[0;34m\u001b[0m\u001b[0m\n\u001b[1;32m    188\u001b[0m                     raise TypeError('TypeError while preparing batch. '\n",
      "\u001b[0;32m/opt/anaconda3/lib/python3.7/site-packages/keras/utils/generic_utils.py\u001b[0m in \u001b[0;36mslice_arrays\u001b[0;34m(arrays, start, stop)\u001b[0m\n\u001b[1;32m    553\u001b[0m             \u001b[0;32mif\u001b[0m \u001b[0mhasattr\u001b[0m\u001b[0;34m(\u001b[0m\u001b[0mstart\u001b[0m\u001b[0;34m,\u001b[0m \u001b[0;34m'shape'\u001b[0m\u001b[0;34m)\u001b[0m\u001b[0;34m:\u001b[0m\u001b[0;34m\u001b[0m\u001b[0;34m\u001b[0m\u001b[0m\n\u001b[1;32m    554\u001b[0m                 \u001b[0mstart\u001b[0m \u001b[0;34m=\u001b[0m \u001b[0mstart\u001b[0m\u001b[0;34m.\u001b[0m\u001b[0mtolist\u001b[0m\u001b[0;34m(\u001b[0m\u001b[0;34m)\u001b[0m\u001b[0;34m\u001b[0m\u001b[0;34m\u001b[0m\u001b[0m\n\u001b[0;32m--> 555\u001b[0;31m             \u001b[0;32mreturn\u001b[0m \u001b[0;34m[\u001b[0m\u001b[0;32mNone\u001b[0m \u001b[0;32mif\u001b[0m \u001b[0mx\u001b[0m \u001b[0;32mis\u001b[0m \u001b[0;32mNone\u001b[0m \u001b[0;32melse\u001b[0m \u001b[0mx\u001b[0m\u001b[0;34m[\u001b[0m\u001b[0mstart\u001b[0m\u001b[0;34m]\u001b[0m \u001b[0;32mfor\u001b[0m \u001b[0mx\u001b[0m \u001b[0;32min\u001b[0m \u001b[0marrays\u001b[0m\u001b[0;34m]\u001b[0m\u001b[0;34m\u001b[0m\u001b[0;34m\u001b[0m\u001b[0m\n\u001b[0m\u001b[1;32m    556\u001b[0m         \u001b[0;32melse\u001b[0m\u001b[0;34m:\u001b[0m\u001b[0;34m\u001b[0m\u001b[0;34m\u001b[0m\u001b[0m\n\u001b[1;32m    557\u001b[0m             \u001b[0;32mreturn\u001b[0m \u001b[0;34m[\u001b[0m\u001b[0;32mNone\u001b[0m \u001b[0;32mif\u001b[0m \u001b[0mx\u001b[0m \u001b[0;32mis\u001b[0m \u001b[0;32mNone\u001b[0m \u001b[0;32melse\u001b[0m \u001b[0mx\u001b[0m\u001b[0;34m[\u001b[0m\u001b[0mstart\u001b[0m\u001b[0;34m:\u001b[0m\u001b[0mstop\u001b[0m\u001b[0;34m]\u001b[0m \u001b[0;32mfor\u001b[0m \u001b[0mx\u001b[0m \u001b[0;32min\u001b[0m \u001b[0marrays\u001b[0m\u001b[0;34m]\u001b[0m\u001b[0;34m\u001b[0m\u001b[0;34m\u001b[0m\u001b[0m\n",
      "\u001b[0;32m/opt/anaconda3/lib/python3.7/site-packages/keras/utils/generic_utils.py\u001b[0m in \u001b[0;36m<listcomp>\u001b[0;34m(.0)\u001b[0m\n\u001b[1;32m    553\u001b[0m             \u001b[0;32mif\u001b[0m \u001b[0mhasattr\u001b[0m\u001b[0;34m(\u001b[0m\u001b[0mstart\u001b[0m\u001b[0;34m,\u001b[0m \u001b[0;34m'shape'\u001b[0m\u001b[0;34m)\u001b[0m\u001b[0;34m:\u001b[0m\u001b[0;34m\u001b[0m\u001b[0;34m\u001b[0m\u001b[0m\n\u001b[1;32m    554\u001b[0m                 \u001b[0mstart\u001b[0m \u001b[0;34m=\u001b[0m \u001b[0mstart\u001b[0m\u001b[0;34m.\u001b[0m\u001b[0mtolist\u001b[0m\u001b[0;34m(\u001b[0m\u001b[0;34m)\u001b[0m\u001b[0;34m\u001b[0m\u001b[0;34m\u001b[0m\u001b[0m\n\u001b[0;32m--> 555\u001b[0;31m             \u001b[0;32mreturn\u001b[0m \u001b[0;34m[\u001b[0m\u001b[0;32mNone\u001b[0m \u001b[0;32mif\u001b[0m \u001b[0mx\u001b[0m \u001b[0;32mis\u001b[0m \u001b[0;32mNone\u001b[0m \u001b[0;32melse\u001b[0m \u001b[0mx\u001b[0m\u001b[0;34m[\u001b[0m\u001b[0mstart\u001b[0m\u001b[0;34m]\u001b[0m \u001b[0;32mfor\u001b[0m \u001b[0mx\u001b[0m \u001b[0;32min\u001b[0m \u001b[0marrays\u001b[0m\u001b[0;34m]\u001b[0m\u001b[0;34m\u001b[0m\u001b[0;34m\u001b[0m\u001b[0m\n\u001b[0m\u001b[1;32m    556\u001b[0m         \u001b[0;32melse\u001b[0m\u001b[0;34m:\u001b[0m\u001b[0;34m\u001b[0m\u001b[0;34m\u001b[0m\u001b[0m\n\u001b[1;32m    557\u001b[0m             \u001b[0;32mreturn\u001b[0m \u001b[0;34m[\u001b[0m\u001b[0;32mNone\u001b[0m \u001b[0;32mif\u001b[0m \u001b[0mx\u001b[0m \u001b[0;32mis\u001b[0m \u001b[0;32mNone\u001b[0m \u001b[0;32melse\u001b[0m \u001b[0mx\u001b[0m\u001b[0;34m[\u001b[0m\u001b[0mstart\u001b[0m\u001b[0;34m:\u001b[0m\u001b[0mstop\u001b[0m\u001b[0;34m]\u001b[0m \u001b[0;32mfor\u001b[0m \u001b[0mx\u001b[0m \u001b[0;32min\u001b[0m \u001b[0marrays\u001b[0m\u001b[0;34m]\u001b[0m\u001b[0;34m\u001b[0m\u001b[0;34m\u001b[0m\u001b[0m\n",
      "\u001b[0;31mKeyboardInterrupt\u001b[0m: "
     ]
    }
   ],
   "source": [
    "#还是那句话，这个0.0002是可以调的\n",
    "#我的经验是 0.002 先第一个epoch跑一半，然后换成 0.0002 一直跑\n",
    "optimizer = tf.keras.optimizers.RMSprop(0.0002)\n",
    "model2.compile(loss=myLoss,optimizer=optimizer)\n",
    "model2.fit(train_X,train_Y,epochs=30)"
   ]
  },
  {
   "cell_type": "code",
   "execution_count": 1127,
   "metadata": {},
   "outputs": [
    {
     "name": "stdout",
     "output_type": "stream",
     "text": [
      "Epoch 1/1\n",
      "222514/222514 [==============================] - 385s 2ms/step - loss: 0.7152\n",
      "validation loss: 68.32648804597177\n",
      "Epoch 1/1\n",
      "222514/222514 [==============================] - 404s 2ms/step - loss: 0.7034\n",
      "validation loss: 68.32648804597177\n",
      "Epoch 1/1\n",
      " 25952/222514 [==>...........................] - ETA: 5:06 - loss: 0.6884"
     ]
    },
    {
     "ename": "KeyboardInterrupt",
     "evalue": "",
     "output_type": "error",
     "traceback": [
      "\u001b[0;31m---------------------------------------------------------------------------\u001b[0m",
      "\u001b[0;31mKeyboardInterrupt\u001b[0m                         Traceback (most recent call last)",
      "\u001b[0;32m<ipython-input-1127-4cf597ec60a6>\u001b[0m in \u001b[0;36m<module>\u001b[0;34m\u001b[0m\n\u001b[1;32m      6\u001b[0m     \u001b[0moptimizer\u001b[0m \u001b[0;34m=\u001b[0m \u001b[0mtf\u001b[0m\u001b[0;34m.\u001b[0m\u001b[0mkeras\u001b[0m\u001b[0;34m.\u001b[0m\u001b[0moptimizers\u001b[0m\u001b[0;34m.\u001b[0m\u001b[0mRMSprop\u001b[0m\u001b[0;34m(\u001b[0m\u001b[0mlearning_rate\u001b[0m\u001b[0;34m)\u001b[0m\u001b[0;34m\u001b[0m\u001b[0;34m\u001b[0m\u001b[0m\n\u001b[1;32m      7\u001b[0m     \u001b[0mmodel2\u001b[0m\u001b[0;34m.\u001b[0m\u001b[0mcompile\u001b[0m\u001b[0;34m(\u001b[0m\u001b[0mloss\u001b[0m\u001b[0;34m=\u001b[0m\u001b[0mmyLoss\u001b[0m\u001b[0;34m,\u001b[0m\u001b[0moptimizer\u001b[0m\u001b[0;34m=\u001b[0m\u001b[0moptimizer\u001b[0m\u001b[0;34m)\u001b[0m\u001b[0;34m\u001b[0m\u001b[0;34m\u001b[0m\u001b[0m\n\u001b[0;32m----> 8\u001b[0;31m     \u001b[0mmodel2\u001b[0m\u001b[0;34m.\u001b[0m\u001b[0mfit\u001b[0m\u001b[0;34m(\u001b[0m\u001b[0mtrain_X\u001b[0m\u001b[0;34m,\u001b[0m\u001b[0mtrain_Y\u001b[0m\u001b[0;34m,\u001b[0m\u001b[0mepochs\u001b[0m\u001b[0;34m=\u001b[0m\u001b[0;36m1\u001b[0m\u001b[0;34m)\u001b[0m\u001b[0;34m\u001b[0m\u001b[0;34m\u001b[0m\u001b[0m\n\u001b[0m\u001b[1;32m      9\u001b[0m     \u001b[0mY_val_pred\u001b[0m \u001b[0;34m=\u001b[0m \u001b[0mmodel3\u001b[0m\u001b[0;34m.\u001b[0m\u001b[0mpredict\u001b[0m\u001b[0;34m(\u001b[0m\u001b[0mval_X\u001b[0m\u001b[0;34m)\u001b[0m\u001b[0;34m\u001b[0m\u001b[0;34m\u001b[0m\u001b[0m\n\u001b[1;32m     10\u001b[0m     \u001b[0mY_val_pred_reshape\u001b[0m \u001b[0;34m=\u001b[0m \u001b[0mnp\u001b[0m\u001b[0;34m.\u001b[0m\u001b[0mreshape\u001b[0m\u001b[0;34m(\u001b[0m\u001b[0mY_val_pred\u001b[0m\u001b[0;34m,\u001b[0m\u001b[0;34m(\u001b[0m\u001b[0mY_val_pred\u001b[0m\u001b[0;34m.\u001b[0m\u001b[0mshape\u001b[0m\u001b[0;34m[\u001b[0m\u001b[0;36m0\u001b[0m\u001b[0;34m]\u001b[0m\u001b[0;34m,\u001b[0m\u001b[0;36m15\u001b[0m\u001b[0;34m,\u001b[0m\u001b[0;36m3\u001b[0m\u001b[0;34m)\u001b[0m\u001b[0;34m)\u001b[0m\u001b[0;34m\u001b[0m\u001b[0;34m\u001b[0m\u001b[0m\n",
      "\u001b[0;32m/opt/anaconda3/lib/python3.7/site-packages/keras/engine/training.py\u001b[0m in \u001b[0;36mfit\u001b[0;34m(self, x, y, batch_size, epochs, verbose, callbacks, validation_split, validation_data, shuffle, class_weight, sample_weight, initial_epoch, steps_per_epoch, validation_steps, validation_freq, max_queue_size, workers, use_multiprocessing, **kwargs)\u001b[0m\n\u001b[1;32m   1237\u001b[0m                                         \u001b[0msteps_per_epoch\u001b[0m\u001b[0;34m=\u001b[0m\u001b[0msteps_per_epoch\u001b[0m\u001b[0;34m,\u001b[0m\u001b[0;34m\u001b[0m\u001b[0;34m\u001b[0m\u001b[0m\n\u001b[1;32m   1238\u001b[0m                                         \u001b[0mvalidation_steps\u001b[0m\u001b[0;34m=\u001b[0m\u001b[0mvalidation_steps\u001b[0m\u001b[0;34m,\u001b[0m\u001b[0;34m\u001b[0m\u001b[0;34m\u001b[0m\u001b[0m\n\u001b[0;32m-> 1239\u001b[0;31m                                         validation_freq=validation_freq)\n\u001b[0m\u001b[1;32m   1240\u001b[0m \u001b[0;34m\u001b[0m\u001b[0m\n\u001b[1;32m   1241\u001b[0m     def evaluate(self,\n",
      "\u001b[0;32m/opt/anaconda3/lib/python3.7/site-packages/keras/engine/training_arrays.py\u001b[0m in \u001b[0;36mfit_loop\u001b[0;34m(model, fit_function, fit_inputs, out_labels, batch_size, epochs, verbose, callbacks, val_function, val_inputs, shuffle, initial_epoch, steps_per_epoch, validation_steps, validation_freq)\u001b[0m\n\u001b[1;32m    194\u001b[0m                     \u001b[0mins_batch\u001b[0m\u001b[0;34m[\u001b[0m\u001b[0mi\u001b[0m\u001b[0;34m]\u001b[0m \u001b[0;34m=\u001b[0m \u001b[0mins_batch\u001b[0m\u001b[0;34m[\u001b[0m\u001b[0mi\u001b[0m\u001b[0;34m]\u001b[0m\u001b[0;34m.\u001b[0m\u001b[0mtoarray\u001b[0m\u001b[0;34m(\u001b[0m\u001b[0;34m)\u001b[0m\u001b[0;34m\u001b[0m\u001b[0;34m\u001b[0m\u001b[0m\n\u001b[1;32m    195\u001b[0m \u001b[0;34m\u001b[0m\u001b[0m\n\u001b[0;32m--> 196\u001b[0;31m                 \u001b[0mouts\u001b[0m \u001b[0;34m=\u001b[0m \u001b[0mfit_function\u001b[0m\u001b[0;34m(\u001b[0m\u001b[0mins_batch\u001b[0m\u001b[0;34m)\u001b[0m\u001b[0;34m\u001b[0m\u001b[0;34m\u001b[0m\u001b[0m\n\u001b[0m\u001b[1;32m    197\u001b[0m                 \u001b[0mouts\u001b[0m \u001b[0;34m=\u001b[0m \u001b[0mto_list\u001b[0m\u001b[0;34m(\u001b[0m\u001b[0mouts\u001b[0m\u001b[0;34m)\u001b[0m\u001b[0;34m\u001b[0m\u001b[0;34m\u001b[0m\u001b[0m\n\u001b[1;32m    198\u001b[0m                 \u001b[0;32mfor\u001b[0m \u001b[0ml\u001b[0m\u001b[0;34m,\u001b[0m \u001b[0mo\u001b[0m \u001b[0;32min\u001b[0m \u001b[0mzip\u001b[0m\u001b[0;34m(\u001b[0m\u001b[0mout_labels\u001b[0m\u001b[0;34m,\u001b[0m \u001b[0mouts\u001b[0m\u001b[0;34m)\u001b[0m\u001b[0;34m:\u001b[0m\u001b[0;34m\u001b[0m\u001b[0;34m\u001b[0m\u001b[0m\n",
      "\u001b[0;32m/opt/anaconda3/lib/python3.7/site-packages/tensorflow/python/keras/backend.py\u001b[0m in \u001b[0;36m__call__\u001b[0;34m(self, inputs)\u001b[0m\n\u001b[1;32m   3790\u001b[0m         \u001b[0mvalue\u001b[0m \u001b[0;34m=\u001b[0m \u001b[0mmath_ops\u001b[0m\u001b[0;34m.\u001b[0m\u001b[0mcast\u001b[0m\u001b[0;34m(\u001b[0m\u001b[0mvalue\u001b[0m\u001b[0;34m,\u001b[0m \u001b[0mtensor\u001b[0m\u001b[0;34m.\u001b[0m\u001b[0mdtype\u001b[0m\u001b[0;34m)\u001b[0m\u001b[0;34m\u001b[0m\u001b[0;34m\u001b[0m\u001b[0m\n\u001b[1;32m   3791\u001b[0m       \u001b[0mconverted_inputs\u001b[0m\u001b[0;34m.\u001b[0m\u001b[0mappend\u001b[0m\u001b[0;34m(\u001b[0m\u001b[0mvalue\u001b[0m\u001b[0;34m)\u001b[0m\u001b[0;34m\u001b[0m\u001b[0;34m\u001b[0m\u001b[0m\n\u001b[0;32m-> 3792\u001b[0;31m     \u001b[0moutputs\u001b[0m \u001b[0;34m=\u001b[0m \u001b[0mself\u001b[0m\u001b[0;34m.\u001b[0m\u001b[0m_graph_fn\u001b[0m\u001b[0;34m(\u001b[0m\u001b[0;34m*\u001b[0m\u001b[0mconverted_inputs\u001b[0m\u001b[0;34m)\u001b[0m\u001b[0;34m\u001b[0m\u001b[0;34m\u001b[0m\u001b[0m\n\u001b[0m\u001b[1;32m   3793\u001b[0m \u001b[0;34m\u001b[0m\u001b[0m\n\u001b[1;32m   3794\u001b[0m     \u001b[0;31m# EagerTensor.numpy() will often make a copy to ensure memory safety.\u001b[0m\u001b[0;34m\u001b[0m\u001b[0;34m\u001b[0m\u001b[0;34m\u001b[0m\u001b[0m\n",
      "\u001b[0;32m/opt/anaconda3/lib/python3.7/site-packages/tensorflow/python/eager/function.py\u001b[0m in \u001b[0;36m__call__\u001b[0;34m(self, *args, **kwargs)\u001b[0m\n\u001b[1;32m   1603\u001b[0m       \u001b[0mTypeError\u001b[0m\u001b[0;34m:\u001b[0m \u001b[0mFor\u001b[0m \u001b[0minvalid\u001b[0m \u001b[0mpositional\u001b[0m\u001b[0;34m/\u001b[0m\u001b[0mkeyword\u001b[0m \u001b[0margument\u001b[0m \u001b[0mcombinations\u001b[0m\u001b[0;34m.\u001b[0m\u001b[0;34m\u001b[0m\u001b[0;34m\u001b[0m\u001b[0m\n\u001b[1;32m   1604\u001b[0m     \"\"\"\n\u001b[0;32m-> 1605\u001b[0;31m     \u001b[0;32mreturn\u001b[0m \u001b[0mself\u001b[0m\u001b[0;34m.\u001b[0m\u001b[0m_call_impl\u001b[0m\u001b[0;34m(\u001b[0m\u001b[0margs\u001b[0m\u001b[0;34m,\u001b[0m \u001b[0mkwargs\u001b[0m\u001b[0;34m)\u001b[0m\u001b[0;34m\u001b[0m\u001b[0;34m\u001b[0m\u001b[0m\n\u001b[0m\u001b[1;32m   1606\u001b[0m \u001b[0;34m\u001b[0m\u001b[0m\n\u001b[1;32m   1607\u001b[0m   \u001b[0;32mdef\u001b[0m \u001b[0m_call_impl\u001b[0m\u001b[0;34m(\u001b[0m\u001b[0mself\u001b[0m\u001b[0;34m,\u001b[0m \u001b[0margs\u001b[0m\u001b[0;34m,\u001b[0m \u001b[0mkwargs\u001b[0m\u001b[0;34m,\u001b[0m \u001b[0mcancellation_manager\u001b[0m\u001b[0;34m=\u001b[0m\u001b[0;32mNone\u001b[0m\u001b[0;34m)\u001b[0m\u001b[0;34m:\u001b[0m\u001b[0;34m\u001b[0m\u001b[0;34m\u001b[0m\u001b[0m\n",
      "\u001b[0;32m/opt/anaconda3/lib/python3.7/site-packages/tensorflow/python/eager/function.py\u001b[0m in \u001b[0;36m_call_impl\u001b[0;34m(self, args, kwargs, cancellation_manager)\u001b[0m\n\u001b[1;32m   1643\u001b[0m       raise TypeError(\"Keyword arguments {} unknown. Expected {}.\".format(\n\u001b[1;32m   1644\u001b[0m           list(kwargs.keys()), list(self._arg_keywords)))\n\u001b[0;32m-> 1645\u001b[0;31m     \u001b[0;32mreturn\u001b[0m \u001b[0mself\u001b[0m\u001b[0;34m.\u001b[0m\u001b[0m_call_flat\u001b[0m\u001b[0;34m(\u001b[0m\u001b[0margs\u001b[0m\u001b[0;34m,\u001b[0m \u001b[0mself\u001b[0m\u001b[0;34m.\u001b[0m\u001b[0mcaptured_inputs\u001b[0m\u001b[0;34m,\u001b[0m \u001b[0mcancellation_manager\u001b[0m\u001b[0;34m)\u001b[0m\u001b[0;34m\u001b[0m\u001b[0;34m\u001b[0m\u001b[0m\n\u001b[0m\u001b[1;32m   1646\u001b[0m \u001b[0;34m\u001b[0m\u001b[0m\n\u001b[1;32m   1647\u001b[0m   \u001b[0;32mdef\u001b[0m \u001b[0m_filtered_call\u001b[0m\u001b[0;34m(\u001b[0m\u001b[0mself\u001b[0m\u001b[0;34m,\u001b[0m \u001b[0margs\u001b[0m\u001b[0;34m,\u001b[0m \u001b[0mkwargs\u001b[0m\u001b[0;34m)\u001b[0m\u001b[0;34m:\u001b[0m\u001b[0;34m\u001b[0m\u001b[0;34m\u001b[0m\u001b[0m\n",
      "\u001b[0;32m/opt/anaconda3/lib/python3.7/site-packages/tensorflow/python/eager/function.py\u001b[0m in \u001b[0;36m_call_flat\u001b[0;34m(self, args, captured_inputs, cancellation_manager)\u001b[0m\n\u001b[1;32m   1744\u001b[0m       \u001b[0;31m# No tape is watching; skip to running the function.\u001b[0m\u001b[0;34m\u001b[0m\u001b[0;34m\u001b[0m\u001b[0;34m\u001b[0m\u001b[0m\n\u001b[1;32m   1745\u001b[0m       return self._build_call_outputs(self._inference_function.call(\n\u001b[0;32m-> 1746\u001b[0;31m           ctx, args, cancellation_manager=cancellation_manager))\n\u001b[0m\u001b[1;32m   1747\u001b[0m     forward_backward = self._select_forward_and_backward_functions(\n\u001b[1;32m   1748\u001b[0m         \u001b[0margs\u001b[0m\u001b[0;34m,\u001b[0m\u001b[0;34m\u001b[0m\u001b[0;34m\u001b[0m\u001b[0m\n",
      "\u001b[0;32m/opt/anaconda3/lib/python3.7/site-packages/tensorflow/python/eager/function.py\u001b[0m in \u001b[0;36mcall\u001b[0;34m(self, ctx, args, cancellation_manager)\u001b[0m\n\u001b[1;32m    596\u001b[0m               \u001b[0minputs\u001b[0m\u001b[0;34m=\u001b[0m\u001b[0margs\u001b[0m\u001b[0;34m,\u001b[0m\u001b[0;34m\u001b[0m\u001b[0;34m\u001b[0m\u001b[0m\n\u001b[1;32m    597\u001b[0m               \u001b[0mattrs\u001b[0m\u001b[0;34m=\u001b[0m\u001b[0mattrs\u001b[0m\u001b[0;34m,\u001b[0m\u001b[0;34m\u001b[0m\u001b[0;34m\u001b[0m\u001b[0m\n\u001b[0;32m--> 598\u001b[0;31m               ctx=ctx)\n\u001b[0m\u001b[1;32m    599\u001b[0m         \u001b[0;32melse\u001b[0m\u001b[0;34m:\u001b[0m\u001b[0;34m\u001b[0m\u001b[0;34m\u001b[0m\u001b[0m\n\u001b[1;32m    600\u001b[0m           outputs = execute.execute_with_cancellation(\n",
      "\u001b[0;32m/opt/anaconda3/lib/python3.7/site-packages/tensorflow/python/eager/execute.py\u001b[0m in \u001b[0;36mquick_execute\u001b[0;34m(op_name, num_outputs, inputs, attrs, ctx, name)\u001b[0m\n\u001b[1;32m     58\u001b[0m     \u001b[0mctx\u001b[0m\u001b[0;34m.\u001b[0m\u001b[0mensure_initialized\u001b[0m\u001b[0;34m(\u001b[0m\u001b[0;34m)\u001b[0m\u001b[0;34m\u001b[0m\u001b[0;34m\u001b[0m\u001b[0m\n\u001b[1;32m     59\u001b[0m     tensors = pywrap_tfe.TFE_Py_Execute(ctx._handle, device_name, op_name,\n\u001b[0;32m---> 60\u001b[0;31m                                         inputs, attrs, num_outputs)\n\u001b[0m\u001b[1;32m     61\u001b[0m   \u001b[0;32mexcept\u001b[0m \u001b[0mcore\u001b[0m\u001b[0;34m.\u001b[0m\u001b[0m_NotOkStatusException\u001b[0m \u001b[0;32mas\u001b[0m \u001b[0me\u001b[0m\u001b[0;34m:\u001b[0m\u001b[0;34m\u001b[0m\u001b[0;34m\u001b[0m\u001b[0m\n\u001b[1;32m     62\u001b[0m     \u001b[0;32mif\u001b[0m \u001b[0mname\u001b[0m \u001b[0;32mis\u001b[0m \u001b[0;32mnot\u001b[0m \u001b[0;32mNone\u001b[0m\u001b[0;34m:\u001b[0m\u001b[0;34m\u001b[0m\u001b[0;34m\u001b[0m\u001b[0m\n",
      "\u001b[0;31mKeyboardInterrupt\u001b[0m: "
     ]
    }
   ],
   "source": [
    "learning_rate = 0.0001\n",
    "for i in range(50):\n",
    "    if i % 5 == 4: \n",
    "        learning_rate = learning_rate/2\n",
    "        print(\"Learning rate has been changed to:\", learning_rate)\n",
    "    optimizer = tf.keras.optimizers.RMSprop(learning_rate)\n",
    "    model2.compile(loss=myLoss,optimizer=optimizer)\n",
    "    model2.fit(train_X,train_Y,epochs=1)\n",
    "    Y_val_pred = model2.predict(val_X)\n",
    "    Y_val_pred_reshape = np.reshape(Y_val_pred,(Y_val_pred.shape[0],15,3))\n",
    "    print(\"validation loss:\", MPJPE_error(gt_3d_val_rel,Y_val_pred_reshape))"
   ]
  },
  {
   "cell_type": "code",
   "execution_count": 1128,
   "metadata": {},
   "outputs": [
    {
     "name": "stdout",
     "output_type": "stream",
     "text": [
      "validation loss: 70.41012887955435\n"
     ]
    }
   ],
   "source": [
    "Y_val_pred = model2.predict(val_X)\n",
    "Y_val_pred_reshape = np.reshape(Y_val_pred,(Y_val_pred.shape[0],15,3))\n",
    "print(\"validation loss:\", MPJPE_error(gt_3d_val_rel,Y_val_pred_reshape))"
   ]
  },
  {
   "cell_type": "code",
   "execution_count": 655,
   "metadata": {},
   "outputs": [
    {
     "name": "stdout",
     "output_type": "stream",
     "text": [
      "validation loss: 70.8466079111705\n"
     ]
    }
   ],
   "source": [
    "Y_val_pred = model2.predict(val_X)\n",
    "Y_val_pred_reshape = np.reshape(Y_val_pred,(Y_val_pred.shape[0],15,3))\n",
    "print(\"validation loss:\", MPJPE_error(gt_3d_val_rel,Y_val_pred_reshape))"
   ]
  },
  {
   "cell_type": "code",
   "execution_count": 656,
   "metadata": {},
   "outputs": [
    {
     "name": "stdout",
     "output_type": "stream",
     "text": [
      "training loss: 32.56014373829159\n"
     ]
    }
   ],
   "source": [
    "Y_pred = model2.predict(train_X)\n",
    "Y_pred_reshape = np.reshape(Y_pred,(Y_pred.shape[0],15,3))\n",
    "print(\"training loss:\", MPJPE_error(Y.reshape((-1,15,3)),Y_pred_reshape))"
   ]
  },
  {
   "cell_type": "code",
   "execution_count": 648,
   "metadata": {},
   "outputs": [],
   "source": []
  },
  {
   "cell_type": "markdown",
   "metadata": {},
   "source": [
    "# Deep Learning Model 3  （still training）"
   ]
  },
  {
   "cell_type": "code",
   "execution_count": 914,
   "metadata": {},
   "outputs": [],
   "source": [
    "from keras.layers import Dense\n",
    "from keras.layers import Dropout\n",
    "from keras.constraints import maxnorm"
   ]
  },
  {
   "cell_type": "code",
   "execution_count": 934,
   "metadata": {},
   "outputs": [],
   "source": [
    "model3.layers.pop()\n",
    "model3.layers.pop()\n",
    "model3.layers.pop()\n",
    "newModel = keras.Sequential([\n",
    "    keras.layers.Dense(1971, activation=tf.nn.sigmoid, kernel_constraint=maxnorm(3), kernel_regularizer=l2(0.01)),\n",
    "    Dropout(0.2),\n",
    "    Dense(140, kernel_constraint=maxnorm(3), kernel_regularizer=l2(0.01)),\n",
    "    Dropout(0.2),\n",
    "    Dense(45, kernel_constraint=maxnorm(3))\n",
    "])\n",
    "# newModel.add(Dense(1971, activation=tf.nn.sigmoid, kernel_constraint=maxnorm(3), kernel_regularizer=l2(0.01)))\n",
    "# newModel.add(Dropout(0.2))\n",
    "# newModel.add(Dense(140, kernel_constraint=maxnorm(3), kernel_regularizer=l2(0.01)))\n",
    "# newModel.add(Dropout(0.2))\n",
    "# newModel.add(Dense(45, kernel_constraint=maxnorm(3)))"
   ]
  },
  {
   "cell_type": "code",
   "execution_count": null,
   "metadata": {},
   "outputs": [],
   "source": []
  },
  {
   "cell_type": "code",
   "execution_count": 879,
   "metadata": {},
   "outputs": [],
   "source": [
    "train_X = np.concatenate((scaler2.transform(ploy_X), \n",
    "                          scaler64.transform(J_train_gt_mdp_enc2_15.reshape((J_train_gt_mdp_enc2_15.shape[0],-1))), \n",
    "                          scaler15.transform(J_train_gt_mdp_15.reshape((J_train_gt_mdp_15.shape[0],-1))), \n",
    "                          scaler15d.transform(train_gt_mdp_15.reshape((train_gt_mdp_15.shape[0],-1)))),axis = 1)\n",
    "train_Y = gt_3d_train_rel.reshape((gt_3d_train_rel.shape[0]),-1)\n",
    "val_X = np.concatenate((scaler2.transform(ploy_val_X), \n",
    "                        scaler64.transform(J_val_gt_mdp_enc2_15.reshape((J_val_gt_mdp_enc2_15.shape[0],-1))), \n",
    "                        scaler15.transform(J_val_gt_mdp_15.reshape((J_val_gt_mdp_15.shape[0],-1))), \n",
    "                        scaler15d.transform(val_gt_mdp_15.reshape((val_gt_mdp_15.shape[0],-1)))),axis = 1)\n",
    "val_Y = gt_3d_val_rel.reshape((gt_3d_val_rel.shape[0]),-1)"
   ]
  },
  {
   "cell_type": "code",
   "execution_count": null,
   "metadata": {},
   "outputs": [],
   "source": []
  },
  {
   "cell_type": "code",
   "execution_count": 1102,
   "metadata": {},
   "outputs": [],
   "source": [
    "model3 = keras.Sequential([\n",
    "    keras.layers.Dense(1971, activation=tf.nn.sigmoid, kernel_regularizer=l2(0.0005)),\n",
    "    Dense(140, kernel_regularizer=l2(0.0005)),\n",
    "    Dense(45, )\n",
    "])"
   ]
  },
  {
   "cell_type": "code",
   "execution_count": null,
   "metadata": {},
   "outputs": [],
   "source": []
  },
  {
   "cell_type": "code",
   "execution_count": 1135,
   "metadata": {},
   "outputs": [],
   "source": [
    "#save model3 to local file\n",
    "\n",
    "model3_json = model3.to_json()\n",
    "with open(\"model3.json\", \"w\") as json_file:\n",
    "    json_file.write(model3_json)\n",
    "model3.save_weights(\"model3.h5\")"
   ]
  },
  {
   "cell_type": "code",
   "execution_count": 1109,
   "metadata": {},
   "outputs": [],
   "source": [
    "#load model3 from the loacl file\n",
    "\n",
    "json_file = open('model3.json', 'r')\n",
    "loaded_model3_json = json_file.read()\n",
    "json_file.close()\n",
    "loaded_model3 = model_from_json(loaded_model3_json)\n",
    "loaded_model3.load_weights(\"model3.h5\")"
   ]
  },
  {
   "cell_type": "code",
   "execution_count": 1110,
   "metadata": {},
   "outputs": [],
   "source": [
    "model3 = loaded_model3"
   ]
  },
  {
   "cell_type": "code",
   "execution_count": 1154,
   "metadata": {},
   "outputs": [
    {
     "name": "stdout",
     "output_type": "stream",
     "text": [
      "Epoch 1/1\n",
      "  3488/222514 [..............................] - ETA: 8:10 - loss: 3.0553"
     ]
    },
    {
     "ename": "KeyboardInterrupt",
     "evalue": "",
     "output_type": "error",
     "traceback": [
      "\u001b[0;31m---------------------------------------------------------------------------\u001b[0m",
      "\u001b[0;31mKeyboardInterrupt\u001b[0m                         Traceback (most recent call last)",
      "\u001b[0;32m<ipython-input-1154-0edb62264a6d>\u001b[0m in \u001b[0;36m<module>\u001b[0;34m\u001b[0m\n\u001b[1;32m     12\u001b[0m     \u001b[0moptimizer\u001b[0m \u001b[0;34m=\u001b[0m \u001b[0mtf\u001b[0m\u001b[0;34m.\u001b[0m\u001b[0mkeras\u001b[0m\u001b[0;34m.\u001b[0m\u001b[0moptimizers\u001b[0m\u001b[0;34m.\u001b[0m\u001b[0mRMSprop\u001b[0m\u001b[0;34m(\u001b[0m\u001b[0mlearning_rate\u001b[0m\u001b[0;34m)\u001b[0m\u001b[0;34m\u001b[0m\u001b[0;34m\u001b[0m\u001b[0m\n\u001b[1;32m     13\u001b[0m     \u001b[0mmodel3\u001b[0m\u001b[0;34m.\u001b[0m\u001b[0mcompile\u001b[0m\u001b[0;34m(\u001b[0m\u001b[0mloss\u001b[0m\u001b[0;34m=\u001b[0m\u001b[0mmyLoss\u001b[0m\u001b[0;34m,\u001b[0m\u001b[0moptimizer\u001b[0m\u001b[0;34m=\u001b[0m\u001b[0moptimizer\u001b[0m\u001b[0;34m)\u001b[0m\u001b[0;34m\u001b[0m\u001b[0;34m\u001b[0m\u001b[0m\n\u001b[0;32m---> 14\u001b[0;31m     \u001b[0mmodel3\u001b[0m\u001b[0;34m.\u001b[0m\u001b[0mfit\u001b[0m\u001b[0;34m(\u001b[0m\u001b[0mtrain_X\u001b[0m\u001b[0;34m,\u001b[0m\u001b[0mtrain_Y\u001b[0m\u001b[0;34m,\u001b[0m\u001b[0mepochs\u001b[0m\u001b[0;34m=\u001b[0m\u001b[0;36m1\u001b[0m\u001b[0;34m)\u001b[0m\u001b[0;34m\u001b[0m\u001b[0;34m\u001b[0m\u001b[0m\n\u001b[0m\u001b[1;32m     15\u001b[0m     \u001b[0mY_val_pred\u001b[0m \u001b[0;34m=\u001b[0m \u001b[0mmodel3\u001b[0m\u001b[0;34m.\u001b[0m\u001b[0mpredict\u001b[0m\u001b[0;34m(\u001b[0m\u001b[0mval_X\u001b[0m\u001b[0;34m)\u001b[0m\u001b[0;34m\u001b[0m\u001b[0;34m\u001b[0m\u001b[0m\n\u001b[1;32m     16\u001b[0m     \u001b[0mY_val_pred_reshape\u001b[0m \u001b[0;34m=\u001b[0m \u001b[0mnp\u001b[0m\u001b[0;34m.\u001b[0m\u001b[0mreshape\u001b[0m\u001b[0;34m(\u001b[0m\u001b[0mY_val_pred\u001b[0m\u001b[0;34m,\u001b[0m\u001b[0;34m(\u001b[0m\u001b[0mY_val_pred\u001b[0m\u001b[0;34m.\u001b[0m\u001b[0mshape\u001b[0m\u001b[0;34m[\u001b[0m\u001b[0;36m0\u001b[0m\u001b[0;34m]\u001b[0m\u001b[0;34m,\u001b[0m\u001b[0;36m15\u001b[0m\u001b[0;34m,\u001b[0m\u001b[0;36m3\u001b[0m\u001b[0;34m)\u001b[0m\u001b[0;34m)\u001b[0m\u001b[0;34m\u001b[0m\u001b[0;34m\u001b[0m\u001b[0m\n",
      "\u001b[0;32m/opt/anaconda3/lib/python3.7/site-packages/keras/engine/training.py\u001b[0m in \u001b[0;36mfit\u001b[0;34m(self, x, y, batch_size, epochs, verbose, callbacks, validation_split, validation_data, shuffle, class_weight, sample_weight, initial_epoch, steps_per_epoch, validation_steps, validation_freq, max_queue_size, workers, use_multiprocessing, **kwargs)\u001b[0m\n\u001b[1;32m   1237\u001b[0m                                         \u001b[0msteps_per_epoch\u001b[0m\u001b[0;34m=\u001b[0m\u001b[0msteps_per_epoch\u001b[0m\u001b[0;34m,\u001b[0m\u001b[0;34m\u001b[0m\u001b[0;34m\u001b[0m\u001b[0m\n\u001b[1;32m   1238\u001b[0m                                         \u001b[0mvalidation_steps\u001b[0m\u001b[0;34m=\u001b[0m\u001b[0mvalidation_steps\u001b[0m\u001b[0;34m,\u001b[0m\u001b[0;34m\u001b[0m\u001b[0;34m\u001b[0m\u001b[0m\n\u001b[0;32m-> 1239\u001b[0;31m                                         validation_freq=validation_freq)\n\u001b[0m\u001b[1;32m   1240\u001b[0m \u001b[0;34m\u001b[0m\u001b[0m\n\u001b[1;32m   1241\u001b[0m     def evaluate(self,\n",
      "\u001b[0;32m/opt/anaconda3/lib/python3.7/site-packages/keras/engine/training_arrays.py\u001b[0m in \u001b[0;36mfit_loop\u001b[0;34m(model, fit_function, fit_inputs, out_labels, batch_size, epochs, verbose, callbacks, val_function, val_inputs, shuffle, initial_epoch, steps_per_epoch, validation_steps, validation_freq)\u001b[0m\n\u001b[1;32m    184\u001b[0m                             fit_inputs[:-1], batch_ids) + [fit_inputs[-1]]\n\u001b[1;32m    185\u001b[0m                     \u001b[0;32melse\u001b[0m\u001b[0;34m:\u001b[0m\u001b[0;34m\u001b[0m\u001b[0;34m\u001b[0m\u001b[0m\n\u001b[0;32m--> 186\u001b[0;31m                         \u001b[0mins_batch\u001b[0m \u001b[0;34m=\u001b[0m \u001b[0mslice_arrays\u001b[0m\u001b[0;34m(\u001b[0m\u001b[0mfit_inputs\u001b[0m\u001b[0;34m,\u001b[0m \u001b[0mbatch_ids\u001b[0m\u001b[0;34m)\u001b[0m\u001b[0;34m\u001b[0m\u001b[0;34m\u001b[0m\u001b[0m\n\u001b[0m\u001b[1;32m    187\u001b[0m                 \u001b[0;32mexcept\u001b[0m \u001b[0mTypeError\u001b[0m\u001b[0;34m:\u001b[0m\u001b[0;34m\u001b[0m\u001b[0;34m\u001b[0m\u001b[0m\n\u001b[1;32m    188\u001b[0m                     raise TypeError('TypeError while preparing batch. '\n",
      "\u001b[0;32m/opt/anaconda3/lib/python3.7/site-packages/keras/utils/generic_utils.py\u001b[0m in \u001b[0;36mslice_arrays\u001b[0;34m(arrays, start, stop)\u001b[0m\n\u001b[1;32m    553\u001b[0m             \u001b[0;32mif\u001b[0m \u001b[0mhasattr\u001b[0m\u001b[0;34m(\u001b[0m\u001b[0mstart\u001b[0m\u001b[0;34m,\u001b[0m \u001b[0;34m'shape'\u001b[0m\u001b[0;34m)\u001b[0m\u001b[0;34m:\u001b[0m\u001b[0;34m\u001b[0m\u001b[0;34m\u001b[0m\u001b[0m\n\u001b[1;32m    554\u001b[0m                 \u001b[0mstart\u001b[0m \u001b[0;34m=\u001b[0m \u001b[0mstart\u001b[0m\u001b[0;34m.\u001b[0m\u001b[0mtolist\u001b[0m\u001b[0;34m(\u001b[0m\u001b[0;34m)\u001b[0m\u001b[0;34m\u001b[0m\u001b[0;34m\u001b[0m\u001b[0m\n\u001b[0;32m--> 555\u001b[0;31m             \u001b[0;32mreturn\u001b[0m \u001b[0;34m[\u001b[0m\u001b[0;32mNone\u001b[0m \u001b[0;32mif\u001b[0m \u001b[0mx\u001b[0m \u001b[0;32mis\u001b[0m \u001b[0;32mNone\u001b[0m \u001b[0;32melse\u001b[0m \u001b[0mx\u001b[0m\u001b[0;34m[\u001b[0m\u001b[0mstart\u001b[0m\u001b[0;34m]\u001b[0m \u001b[0;32mfor\u001b[0m \u001b[0mx\u001b[0m \u001b[0;32min\u001b[0m \u001b[0marrays\u001b[0m\u001b[0;34m]\u001b[0m\u001b[0;34m\u001b[0m\u001b[0;34m\u001b[0m\u001b[0m\n\u001b[0m\u001b[1;32m    556\u001b[0m         \u001b[0;32melse\u001b[0m\u001b[0;34m:\u001b[0m\u001b[0;34m\u001b[0m\u001b[0;34m\u001b[0m\u001b[0m\n\u001b[1;32m    557\u001b[0m             \u001b[0;32mreturn\u001b[0m \u001b[0;34m[\u001b[0m\u001b[0;32mNone\u001b[0m \u001b[0;32mif\u001b[0m \u001b[0mx\u001b[0m \u001b[0;32mis\u001b[0m \u001b[0;32mNone\u001b[0m \u001b[0;32melse\u001b[0m \u001b[0mx\u001b[0m\u001b[0;34m[\u001b[0m\u001b[0mstart\u001b[0m\u001b[0;34m:\u001b[0m\u001b[0mstop\u001b[0m\u001b[0;34m]\u001b[0m \u001b[0;32mfor\u001b[0m \u001b[0mx\u001b[0m \u001b[0;32min\u001b[0m \u001b[0marrays\u001b[0m\u001b[0;34m]\u001b[0m\u001b[0;34m\u001b[0m\u001b[0;34m\u001b[0m\u001b[0m\n",
      "\u001b[0;32m/opt/anaconda3/lib/python3.7/site-packages/keras/utils/generic_utils.py\u001b[0m in \u001b[0;36m<listcomp>\u001b[0;34m(.0)\u001b[0m\n\u001b[1;32m    553\u001b[0m             \u001b[0;32mif\u001b[0m \u001b[0mhasattr\u001b[0m\u001b[0;34m(\u001b[0m\u001b[0mstart\u001b[0m\u001b[0;34m,\u001b[0m \u001b[0;34m'shape'\u001b[0m\u001b[0;34m)\u001b[0m\u001b[0;34m:\u001b[0m\u001b[0;34m\u001b[0m\u001b[0;34m\u001b[0m\u001b[0m\n\u001b[1;32m    554\u001b[0m                 \u001b[0mstart\u001b[0m \u001b[0;34m=\u001b[0m \u001b[0mstart\u001b[0m\u001b[0;34m.\u001b[0m\u001b[0mtolist\u001b[0m\u001b[0;34m(\u001b[0m\u001b[0;34m)\u001b[0m\u001b[0;34m\u001b[0m\u001b[0;34m\u001b[0m\u001b[0m\n\u001b[0;32m--> 555\u001b[0;31m             \u001b[0;32mreturn\u001b[0m \u001b[0;34m[\u001b[0m\u001b[0;32mNone\u001b[0m \u001b[0;32mif\u001b[0m \u001b[0mx\u001b[0m \u001b[0;32mis\u001b[0m \u001b[0;32mNone\u001b[0m \u001b[0;32melse\u001b[0m \u001b[0mx\u001b[0m\u001b[0;34m[\u001b[0m\u001b[0mstart\u001b[0m\u001b[0;34m]\u001b[0m \u001b[0;32mfor\u001b[0m \u001b[0mx\u001b[0m \u001b[0;32min\u001b[0m \u001b[0marrays\u001b[0m\u001b[0;34m]\u001b[0m\u001b[0;34m\u001b[0m\u001b[0;34m\u001b[0m\u001b[0m\n\u001b[0m\u001b[1;32m    556\u001b[0m         \u001b[0;32melse\u001b[0m\u001b[0;34m:\u001b[0m\u001b[0;34m\u001b[0m\u001b[0;34m\u001b[0m\u001b[0m\n\u001b[1;32m    557\u001b[0m             \u001b[0;32mreturn\u001b[0m \u001b[0;34m[\u001b[0m\u001b[0;32mNone\u001b[0m \u001b[0;32mif\u001b[0m \u001b[0mx\u001b[0m \u001b[0;32mis\u001b[0m \u001b[0;32mNone\u001b[0m \u001b[0;32melse\u001b[0m \u001b[0mx\u001b[0m\u001b[0;34m[\u001b[0m\u001b[0mstart\u001b[0m\u001b[0;34m:\u001b[0m\u001b[0mstop\u001b[0m\u001b[0;34m]\u001b[0m \u001b[0;32mfor\u001b[0m \u001b[0mx\u001b[0m \u001b[0;32min\u001b[0m \u001b[0marrays\u001b[0m\u001b[0;34m]\u001b[0m\u001b[0;34m\u001b[0m\u001b[0;34m\u001b[0m\u001b[0m\n",
      "\u001b[0;31mKeyboardInterrupt\u001b[0m: "
     ]
    }
   ],
   "source": [
    "# Epoch 1/1\n",
    "# 222514/222514 [==============================] - 548s 2ms/step - loss: 3.5754\n",
    "# validation loss: 67.94765865940005\n",
    "# Epoch 1/1\n",
    "# 222514/222514 [==============================] - 521s 2ms/step - loss: 3.4793\n",
    "# validation loss: 68.41605490881022\n",
    "learning_rate = 0.0002\n",
    "for i in range(50):\n",
    "    if i % 5 == 4: \n",
    "        learning_rate = learning_rate/2\n",
    "        print(\"Learning rate has been changed to:\", learning_rate)\n",
    "    optimizer = tf.keras.optimizers.RMSprop(learning_rate)\n",
    "    model3.compile(loss=myLoss,optimizer=optimizer)\n",
    "    model3.fit(train_X,train_Y,epochs=1)\n",
    "    Y_val_pred = model3.predict(val_X)\n",
    "    Y_val_pred_reshape = np.reshape(Y_val_pred,(Y_val_pred.shape[0],15,3))\n",
    "    print(\"validation loss:\", MPJPE_error(gt_3d_val_rel,Y_val_pred_reshape))"
   ]
  },
  {
   "cell_type": "code",
   "execution_count": 1159,
   "metadata": {},
   "outputs": [
    {
     "name": "stdout",
     "output_type": "stream",
     "text": [
      "validation loss: 68.03366942202337\n"
     ]
    }
   ],
   "source": [
    "Y_val_pred = model3.predict(val_X)\n",
    "Y_val_pred_reshape = np.reshape(Y_val_pred,(Y_val_pred.shape[0],15,3))\n",
    "print(\"validation loss:\", MPJPE_error(gt_3d_val_rel,Y_val_pred_reshape))"
   ]
  },
  {
   "cell_type": "code",
   "execution_count": 1160,
   "metadata": {},
   "outputs": [
    {
     "name": "stdout",
     "output_type": "stream",
     "text": [
      "training loss: 50.56891441119874\n"
     ]
    }
   ],
   "source": [
    "Y_pred = model3.predict(train_X)\n",
    "Y_pred_reshape = np.reshape(Y_pred,(Y_pred.shape[0],15,3))\n",
    "print(\"training loss:\", MPJPE_error(Y.reshape((-1,15,3)),Y_pred_reshape))"
   ]
  },
  {
   "cell_type": "code",
   "execution_count": null,
   "metadata": {},
   "outputs": [],
   "source": []
  },
  {
   "cell_type": "code",
   "execution_count": 1140,
   "metadata": {},
   "outputs": [],
   "source": [
    "train_X = np.concatenate((scaler2.transform(ploy_X), \n",
    "                          scaler64.transform(J_train_gt_mdp_enc2_15.reshape((J_train_gt_mdp_enc2_15.shape[0],-1))), \n",
    "                          scaler15.transform(J_train_gt_mdp_15.reshape((J_train_gt_mdp_15.shape[0],-1))), \n",
    "                          scaler15d.transform(train_gt_mdp_15.reshape((train_gt_mdp_15.shape[0],-1)))),axis = 1)\n",
    "train_Y = gt_3d_train_rel.reshape((gt_3d_train_rel.shape[0]),-1)\n",
    "val_X = np.concatenate((scaler2.transform(ploy_val_X), \n",
    "                        scaler64.transform(J_val_gt_mdp_enc2_15.reshape((J_val_gt_mdp_enc2_15.shape[0],-1))), \n",
    "                        scaler15.transform(J_val_gt_mdp_15.reshape((J_val_gt_mdp_15.shape[0],-1))), \n",
    "                        scaler15d.transform(val_gt_mdp_15.reshape((val_gt_mdp_15.shape[0],-1)))),axis = 1)\n",
    "val_Y = gt_3d_val_rel.reshape((gt_3d_val_rel.shape[0]),-1)"
   ]
  },
  {
   "cell_type": "code",
   "execution_count": 1141,
   "metadata": {},
   "outputs": [],
   "source": [
    "model4 = keras.Sequential([\n",
    "    keras.layers.Dense(1971, activation=tf.nn.sigmoid, kernel_regularizer=l2(0.0008)),\n",
    "    Dense(140, kernel_regularizer=l2(0.0008)),\n",
    "    Dense(45, )\n",
    "])"
   ]
  },
  {
   "cell_type": "code",
   "execution_count": 1170,
   "metadata": {},
   "outputs": [
    {
     "name": "stdout",
     "output_type": "stream",
     "text": [
      "Epoch 1/1\n",
      "222514/222514 [==============================] - 493s 2ms/step - loss: 2.8835\n",
      "validation loss: 66.27418140593083\n",
      "Epoch 1/1\n",
      "222514/222514 [==============================] - 503s 2ms/step - loss: 2.8778\n",
      "validation loss: 66.63453294935205\n",
      "Learning rate has been changed to: 1e-05\n",
      "Epoch 1/1\n",
      "210656/222514 [===========================>..] - ETA: 26s - loss: 2.8623"
     ]
    },
    {
     "ename": "KeyboardInterrupt",
     "evalue": "",
     "output_type": "error",
     "traceback": [
      "\u001b[0;31m---------------------------------------------------------------------------\u001b[0m",
      "\u001b[0;31mKeyboardInterrupt\u001b[0m                         Traceback (most recent call last)",
      "\u001b[0;32m<ipython-input-1170-88ad723d0ce5>\u001b[0m in \u001b[0;36m<module>\u001b[0;34m\u001b[0m\n\u001b[1;32m     12\u001b[0m     \u001b[0moptimizer\u001b[0m \u001b[0;34m=\u001b[0m \u001b[0mtf\u001b[0m\u001b[0;34m.\u001b[0m\u001b[0mkeras\u001b[0m\u001b[0;34m.\u001b[0m\u001b[0moptimizers\u001b[0m\u001b[0;34m.\u001b[0m\u001b[0mRMSprop\u001b[0m\u001b[0;34m(\u001b[0m\u001b[0mlearning_rate\u001b[0m\u001b[0;34m)\u001b[0m\u001b[0;34m\u001b[0m\u001b[0;34m\u001b[0m\u001b[0m\n\u001b[1;32m     13\u001b[0m     \u001b[0mmodel4\u001b[0m\u001b[0;34m.\u001b[0m\u001b[0mcompile\u001b[0m\u001b[0;34m(\u001b[0m\u001b[0mloss\u001b[0m\u001b[0;34m=\u001b[0m\u001b[0mmyLoss\u001b[0m\u001b[0;34m,\u001b[0m\u001b[0moptimizer\u001b[0m\u001b[0;34m=\u001b[0m\u001b[0moptimizer\u001b[0m\u001b[0;34m)\u001b[0m\u001b[0;34m\u001b[0m\u001b[0;34m\u001b[0m\u001b[0m\n\u001b[0;32m---> 14\u001b[0;31m     \u001b[0mmodel4\u001b[0m\u001b[0;34m.\u001b[0m\u001b[0mfit\u001b[0m\u001b[0;34m(\u001b[0m\u001b[0mtrain_X\u001b[0m\u001b[0;34m,\u001b[0m\u001b[0mtrain_Y\u001b[0m\u001b[0;34m,\u001b[0m\u001b[0mepochs\u001b[0m\u001b[0;34m=\u001b[0m\u001b[0;36m1\u001b[0m\u001b[0;34m)\u001b[0m\u001b[0;34m\u001b[0m\u001b[0;34m\u001b[0m\u001b[0m\n\u001b[0m\u001b[1;32m     15\u001b[0m     \u001b[0mY_val_pred\u001b[0m \u001b[0;34m=\u001b[0m \u001b[0mmodel4\u001b[0m\u001b[0;34m.\u001b[0m\u001b[0mpredict\u001b[0m\u001b[0;34m(\u001b[0m\u001b[0mval_X\u001b[0m\u001b[0;34m)\u001b[0m\u001b[0;34m\u001b[0m\u001b[0;34m\u001b[0m\u001b[0m\n\u001b[1;32m     16\u001b[0m     \u001b[0mY_val_pred_reshape\u001b[0m \u001b[0;34m=\u001b[0m \u001b[0mnp\u001b[0m\u001b[0;34m.\u001b[0m\u001b[0mreshape\u001b[0m\u001b[0;34m(\u001b[0m\u001b[0mY_val_pred\u001b[0m\u001b[0;34m,\u001b[0m\u001b[0;34m(\u001b[0m\u001b[0mY_val_pred\u001b[0m\u001b[0;34m.\u001b[0m\u001b[0mshape\u001b[0m\u001b[0;34m[\u001b[0m\u001b[0;36m0\u001b[0m\u001b[0;34m]\u001b[0m\u001b[0;34m,\u001b[0m\u001b[0;36m15\u001b[0m\u001b[0;34m,\u001b[0m\u001b[0;36m3\u001b[0m\u001b[0;34m)\u001b[0m\u001b[0;34m)\u001b[0m\u001b[0;34m\u001b[0m\u001b[0;34m\u001b[0m\u001b[0m\n",
      "\u001b[0;32m/opt/anaconda3/lib/python3.7/site-packages/keras/engine/training.py\u001b[0m in \u001b[0;36mfit\u001b[0;34m(self, x, y, batch_size, epochs, verbose, callbacks, validation_split, validation_data, shuffle, class_weight, sample_weight, initial_epoch, steps_per_epoch, validation_steps, validation_freq, max_queue_size, workers, use_multiprocessing, **kwargs)\u001b[0m\n\u001b[1;32m   1237\u001b[0m                                         \u001b[0msteps_per_epoch\u001b[0m\u001b[0;34m=\u001b[0m\u001b[0msteps_per_epoch\u001b[0m\u001b[0;34m,\u001b[0m\u001b[0;34m\u001b[0m\u001b[0;34m\u001b[0m\u001b[0m\n\u001b[1;32m   1238\u001b[0m                                         \u001b[0mvalidation_steps\u001b[0m\u001b[0;34m=\u001b[0m\u001b[0mvalidation_steps\u001b[0m\u001b[0;34m,\u001b[0m\u001b[0;34m\u001b[0m\u001b[0;34m\u001b[0m\u001b[0m\n\u001b[0;32m-> 1239\u001b[0;31m                                         validation_freq=validation_freq)\n\u001b[0m\u001b[1;32m   1240\u001b[0m \u001b[0;34m\u001b[0m\u001b[0m\n\u001b[1;32m   1241\u001b[0m     def evaluate(self,\n",
      "\u001b[0;32m/opt/anaconda3/lib/python3.7/site-packages/keras/engine/training_arrays.py\u001b[0m in \u001b[0;36mfit_loop\u001b[0;34m(model, fit_function, fit_inputs, out_labels, batch_size, epochs, verbose, callbacks, val_function, val_inputs, shuffle, initial_epoch, steps_per_epoch, validation_steps, validation_freq)\u001b[0m\n\u001b[1;32m    184\u001b[0m                             fit_inputs[:-1], batch_ids) + [fit_inputs[-1]]\n\u001b[1;32m    185\u001b[0m                     \u001b[0;32melse\u001b[0m\u001b[0;34m:\u001b[0m\u001b[0;34m\u001b[0m\u001b[0;34m\u001b[0m\u001b[0m\n\u001b[0;32m--> 186\u001b[0;31m                         \u001b[0mins_batch\u001b[0m \u001b[0;34m=\u001b[0m \u001b[0mslice_arrays\u001b[0m\u001b[0;34m(\u001b[0m\u001b[0mfit_inputs\u001b[0m\u001b[0;34m,\u001b[0m \u001b[0mbatch_ids\u001b[0m\u001b[0;34m)\u001b[0m\u001b[0;34m\u001b[0m\u001b[0;34m\u001b[0m\u001b[0m\n\u001b[0m\u001b[1;32m    187\u001b[0m                 \u001b[0;32mexcept\u001b[0m \u001b[0mTypeError\u001b[0m\u001b[0;34m:\u001b[0m\u001b[0;34m\u001b[0m\u001b[0;34m\u001b[0m\u001b[0m\n\u001b[1;32m    188\u001b[0m                     raise TypeError('TypeError while preparing batch. '\n",
      "\u001b[0;32m/opt/anaconda3/lib/python3.7/site-packages/keras/utils/generic_utils.py\u001b[0m in \u001b[0;36mslice_arrays\u001b[0;34m(arrays, start, stop)\u001b[0m\n\u001b[1;32m    553\u001b[0m             \u001b[0;32mif\u001b[0m \u001b[0mhasattr\u001b[0m\u001b[0;34m(\u001b[0m\u001b[0mstart\u001b[0m\u001b[0;34m,\u001b[0m \u001b[0;34m'shape'\u001b[0m\u001b[0;34m)\u001b[0m\u001b[0;34m:\u001b[0m\u001b[0;34m\u001b[0m\u001b[0;34m\u001b[0m\u001b[0m\n\u001b[1;32m    554\u001b[0m                 \u001b[0mstart\u001b[0m \u001b[0;34m=\u001b[0m \u001b[0mstart\u001b[0m\u001b[0;34m.\u001b[0m\u001b[0mtolist\u001b[0m\u001b[0;34m(\u001b[0m\u001b[0;34m)\u001b[0m\u001b[0;34m\u001b[0m\u001b[0;34m\u001b[0m\u001b[0m\n\u001b[0;32m--> 555\u001b[0;31m             \u001b[0;32mreturn\u001b[0m \u001b[0;34m[\u001b[0m\u001b[0;32mNone\u001b[0m \u001b[0;32mif\u001b[0m \u001b[0mx\u001b[0m \u001b[0;32mis\u001b[0m \u001b[0;32mNone\u001b[0m \u001b[0;32melse\u001b[0m \u001b[0mx\u001b[0m\u001b[0;34m[\u001b[0m\u001b[0mstart\u001b[0m\u001b[0;34m]\u001b[0m \u001b[0;32mfor\u001b[0m \u001b[0mx\u001b[0m \u001b[0;32min\u001b[0m \u001b[0marrays\u001b[0m\u001b[0;34m]\u001b[0m\u001b[0;34m\u001b[0m\u001b[0;34m\u001b[0m\u001b[0m\n\u001b[0m\u001b[1;32m    556\u001b[0m         \u001b[0;32melse\u001b[0m\u001b[0;34m:\u001b[0m\u001b[0;34m\u001b[0m\u001b[0;34m\u001b[0m\u001b[0m\n\u001b[1;32m    557\u001b[0m             \u001b[0;32mreturn\u001b[0m \u001b[0;34m[\u001b[0m\u001b[0;32mNone\u001b[0m \u001b[0;32mif\u001b[0m \u001b[0mx\u001b[0m \u001b[0;32mis\u001b[0m \u001b[0;32mNone\u001b[0m \u001b[0;32melse\u001b[0m \u001b[0mx\u001b[0m\u001b[0;34m[\u001b[0m\u001b[0mstart\u001b[0m\u001b[0;34m:\u001b[0m\u001b[0mstop\u001b[0m\u001b[0;34m]\u001b[0m \u001b[0;32mfor\u001b[0m \u001b[0mx\u001b[0m \u001b[0;32min\u001b[0m \u001b[0marrays\u001b[0m\u001b[0;34m]\u001b[0m\u001b[0;34m\u001b[0m\u001b[0;34m\u001b[0m\u001b[0m\n",
      "\u001b[0;32m/opt/anaconda3/lib/python3.7/site-packages/keras/utils/generic_utils.py\u001b[0m in \u001b[0;36m<listcomp>\u001b[0;34m(.0)\u001b[0m\n\u001b[1;32m    553\u001b[0m             \u001b[0;32mif\u001b[0m \u001b[0mhasattr\u001b[0m\u001b[0;34m(\u001b[0m\u001b[0mstart\u001b[0m\u001b[0;34m,\u001b[0m \u001b[0;34m'shape'\u001b[0m\u001b[0;34m)\u001b[0m\u001b[0;34m:\u001b[0m\u001b[0;34m\u001b[0m\u001b[0;34m\u001b[0m\u001b[0m\n\u001b[1;32m    554\u001b[0m                 \u001b[0mstart\u001b[0m \u001b[0;34m=\u001b[0m \u001b[0mstart\u001b[0m\u001b[0;34m.\u001b[0m\u001b[0mtolist\u001b[0m\u001b[0;34m(\u001b[0m\u001b[0;34m)\u001b[0m\u001b[0;34m\u001b[0m\u001b[0;34m\u001b[0m\u001b[0m\n\u001b[0;32m--> 555\u001b[0;31m             \u001b[0;32mreturn\u001b[0m \u001b[0;34m[\u001b[0m\u001b[0;32mNone\u001b[0m \u001b[0;32mif\u001b[0m \u001b[0mx\u001b[0m \u001b[0;32mis\u001b[0m \u001b[0;32mNone\u001b[0m \u001b[0;32melse\u001b[0m \u001b[0mx\u001b[0m\u001b[0;34m[\u001b[0m\u001b[0mstart\u001b[0m\u001b[0;34m]\u001b[0m \u001b[0;32mfor\u001b[0m \u001b[0mx\u001b[0m \u001b[0;32min\u001b[0m \u001b[0marrays\u001b[0m\u001b[0;34m]\u001b[0m\u001b[0;34m\u001b[0m\u001b[0;34m\u001b[0m\u001b[0m\n\u001b[0m\u001b[1;32m    556\u001b[0m         \u001b[0;32melse\u001b[0m\u001b[0;34m:\u001b[0m\u001b[0;34m\u001b[0m\u001b[0;34m\u001b[0m\u001b[0m\n\u001b[1;32m    557\u001b[0m             \u001b[0;32mreturn\u001b[0m \u001b[0;34m[\u001b[0m\u001b[0;32mNone\u001b[0m \u001b[0;32mif\u001b[0m \u001b[0mx\u001b[0m \u001b[0;32mis\u001b[0m \u001b[0;32mNone\u001b[0m \u001b[0;32melse\u001b[0m \u001b[0mx\u001b[0m\u001b[0;34m[\u001b[0m\u001b[0mstart\u001b[0m\u001b[0;34m:\u001b[0m\u001b[0mstop\u001b[0m\u001b[0;34m]\u001b[0m \u001b[0;32mfor\u001b[0m \u001b[0mx\u001b[0m \u001b[0;32min\u001b[0m \u001b[0marrays\u001b[0m\u001b[0;34m]\u001b[0m\u001b[0;34m\u001b[0m\u001b[0;34m\u001b[0m\u001b[0m\n",
      "\u001b[0;31mKeyboardInterrupt\u001b[0m: "
     ]
    }
   ],
   "source": [
    "# Epoch 1/1\n",
    "# 222514/222514 [==============================] - 548s 2ms/step - loss: 3.5754\n",
    "# validation loss: 67.94765865940005\n",
    "# Epoch 1/1\n",
    "# 222514/222514 [==============================] - 521s 2ms/step - loss: 3.4793\n",
    "# validation loss: 68.41605490881022\n",
    "learning_rate = 0.00002\n",
    "for i in range(50):\n",
    "    if i % 3 == 2: \n",
    "        learning_rate = learning_rate/2\n",
    "        print(\"Learning rate has been changed to:\", learning_rate)\n",
    "    optimizer = tf.keras.optimizers.RMSprop(learning_rate)\n",
    "    model4.compile(loss=myLoss,optimizer=optimizer)\n",
    "    model4.fit(train_X,train_Y,epochs=1)\n",
    "    Y_val_pred = model4.predict(val_X)\n",
    "    Y_val_pred_reshape = np.reshape(Y_val_pred,(Y_val_pred.shape[0],15,3))\n",
    "    print(\"validation loss:\", MPJPE_error(gt_3d_val_rel,Y_val_pred_reshape))"
   ]
  },
  {
   "cell_type": "code",
   "execution_count": 1171,
   "metadata": {},
   "outputs": [
    {
     "name": "stdout",
     "output_type": "stream",
     "text": [
      "validation loss: 66.21621543862155\n"
     ]
    }
   ],
   "source": [
    "Y_val_pred = model4.predict(val_X)\n",
    "Y_val_pred_reshape = np.reshape(Y_val_pred,(Y_val_pred.shape[0],15,3))\n",
    "print(\"validation loss:\", MPJPE_error(gt_3d_val_rel,Y_val_pred_reshape))"
   ]
  },
  {
   "cell_type": "code",
   "execution_count": 1172,
   "metadata": {},
   "outputs": [
    {
     "ename": "KeyboardInterrupt",
     "evalue": "",
     "output_type": "error",
     "traceback": [
      "\u001b[0;31m---------------------------------------------------------------------------\u001b[0m",
      "\u001b[0;31mKeyboardInterrupt\u001b[0m                         Traceback (most recent call last)",
      "\u001b[0;32m<ipython-input-1172-7b8bcb456d70>\u001b[0m in \u001b[0;36m<module>\u001b[0;34m\u001b[0m\n\u001b[0;32m----> 1\u001b[0;31m \u001b[0mY_pred\u001b[0m \u001b[0;34m=\u001b[0m \u001b[0mmodel4\u001b[0m\u001b[0;34m.\u001b[0m\u001b[0mpredict\u001b[0m\u001b[0;34m(\u001b[0m\u001b[0mtrain_X\u001b[0m\u001b[0;34m)\u001b[0m\u001b[0;34m\u001b[0m\u001b[0;34m\u001b[0m\u001b[0m\n\u001b[0m\u001b[1;32m      2\u001b[0m \u001b[0mY_pred_reshape\u001b[0m \u001b[0;34m=\u001b[0m \u001b[0mnp\u001b[0m\u001b[0;34m.\u001b[0m\u001b[0mreshape\u001b[0m\u001b[0;34m(\u001b[0m\u001b[0mY_pred\u001b[0m\u001b[0;34m,\u001b[0m\u001b[0;34m(\u001b[0m\u001b[0mY_pred\u001b[0m\u001b[0;34m.\u001b[0m\u001b[0mshape\u001b[0m\u001b[0;34m[\u001b[0m\u001b[0;36m0\u001b[0m\u001b[0;34m]\u001b[0m\u001b[0;34m,\u001b[0m\u001b[0;36m15\u001b[0m\u001b[0;34m,\u001b[0m\u001b[0;36m3\u001b[0m\u001b[0;34m)\u001b[0m\u001b[0;34m)\u001b[0m\u001b[0;34m\u001b[0m\u001b[0;34m\u001b[0m\u001b[0m\n\u001b[1;32m      3\u001b[0m \u001b[0mprint\u001b[0m\u001b[0;34m(\u001b[0m\u001b[0;34m\"training loss:\"\u001b[0m\u001b[0;34m,\u001b[0m \u001b[0mMPJPE_error\u001b[0m\u001b[0;34m(\u001b[0m\u001b[0mY\u001b[0m\u001b[0;34m.\u001b[0m\u001b[0mreshape\u001b[0m\u001b[0;34m(\u001b[0m\u001b[0;34m(\u001b[0m\u001b[0;34m-\u001b[0m\u001b[0;36m1\u001b[0m\u001b[0;34m,\u001b[0m\u001b[0;36m15\u001b[0m\u001b[0;34m,\u001b[0m\u001b[0;36m3\u001b[0m\u001b[0;34m)\u001b[0m\u001b[0;34m)\u001b[0m\u001b[0;34m,\u001b[0m\u001b[0mY_pred_reshape\u001b[0m\u001b[0;34m)\u001b[0m\u001b[0;34m)\u001b[0m\u001b[0;34m\u001b[0m\u001b[0;34m\u001b[0m\u001b[0m\n",
      "\u001b[0;32m/opt/anaconda3/lib/python3.7/site-packages/keras/engine/training.py\u001b[0m in \u001b[0;36mpredict\u001b[0;34m(self, x, batch_size, verbose, steps, callbacks, max_queue_size, workers, use_multiprocessing)\u001b[0m\n\u001b[1;32m   1460\u001b[0m                                             \u001b[0mverbose\u001b[0m\u001b[0;34m=\u001b[0m\u001b[0mverbose\u001b[0m\u001b[0;34m,\u001b[0m\u001b[0;34m\u001b[0m\u001b[0;34m\u001b[0m\u001b[0m\n\u001b[1;32m   1461\u001b[0m                                             \u001b[0msteps\u001b[0m\u001b[0;34m=\u001b[0m\u001b[0msteps\u001b[0m\u001b[0;34m,\u001b[0m\u001b[0;34m\u001b[0m\u001b[0;34m\u001b[0m\u001b[0m\n\u001b[0;32m-> 1462\u001b[0;31m                                             callbacks=callbacks)\n\u001b[0m\u001b[1;32m   1463\u001b[0m \u001b[0;34m\u001b[0m\u001b[0m\n\u001b[1;32m   1464\u001b[0m     def train_on_batch(self, x, y,\n",
      "\u001b[0;32m/opt/anaconda3/lib/python3.7/site-packages/keras/engine/training_arrays.py\u001b[0m in \u001b[0;36mpredict_loop\u001b[0;34m(model, f, ins, batch_size, verbose, steps, callbacks)\u001b[0m\n\u001b[1;32m    322\u001b[0m             \u001b[0mbatch_logs\u001b[0m \u001b[0;34m=\u001b[0m \u001b[0;34m{\u001b[0m\u001b[0;34m'batch'\u001b[0m\u001b[0;34m:\u001b[0m \u001b[0mbatch_index\u001b[0m\u001b[0;34m,\u001b[0m \u001b[0;34m'size'\u001b[0m\u001b[0;34m:\u001b[0m \u001b[0mlen\u001b[0m\u001b[0;34m(\u001b[0m\u001b[0mbatch_ids\u001b[0m\u001b[0;34m)\u001b[0m\u001b[0;34m}\u001b[0m\u001b[0;34m\u001b[0m\u001b[0;34m\u001b[0m\u001b[0m\n\u001b[1;32m    323\u001b[0m             \u001b[0mcallbacks\u001b[0m\u001b[0;34m.\u001b[0m\u001b[0m_call_batch_hook\u001b[0m\u001b[0;34m(\u001b[0m\u001b[0;34m'predict'\u001b[0m\u001b[0;34m,\u001b[0m \u001b[0;34m'begin'\u001b[0m\u001b[0;34m,\u001b[0m \u001b[0mbatch_index\u001b[0m\u001b[0;34m,\u001b[0m \u001b[0mbatch_logs\u001b[0m\u001b[0;34m)\u001b[0m\u001b[0;34m\u001b[0m\u001b[0;34m\u001b[0m\u001b[0m\n\u001b[0;32m--> 324\u001b[0;31m             \u001b[0mbatch_outs\u001b[0m \u001b[0;34m=\u001b[0m \u001b[0mf\u001b[0m\u001b[0;34m(\u001b[0m\u001b[0mins_batch\u001b[0m\u001b[0;34m)\u001b[0m\u001b[0;34m\u001b[0m\u001b[0;34m\u001b[0m\u001b[0m\n\u001b[0m\u001b[1;32m    325\u001b[0m             \u001b[0mbatch_outs\u001b[0m \u001b[0;34m=\u001b[0m \u001b[0mto_list\u001b[0m\u001b[0;34m(\u001b[0m\u001b[0mbatch_outs\u001b[0m\u001b[0;34m)\u001b[0m\u001b[0;34m\u001b[0m\u001b[0;34m\u001b[0m\u001b[0m\n\u001b[1;32m    326\u001b[0m             \u001b[0;32mif\u001b[0m \u001b[0mbatch_index\u001b[0m \u001b[0;34m==\u001b[0m \u001b[0;36m0\u001b[0m\u001b[0;34m:\u001b[0m\u001b[0;34m\u001b[0m\u001b[0;34m\u001b[0m\u001b[0m\n",
      "\u001b[0;32m/opt/anaconda3/lib/python3.7/site-packages/tensorflow/python/keras/backend.py\u001b[0m in \u001b[0;36m__call__\u001b[0;34m(self, inputs)\u001b[0m\n\u001b[1;32m   3790\u001b[0m         \u001b[0mvalue\u001b[0m \u001b[0;34m=\u001b[0m \u001b[0mmath_ops\u001b[0m\u001b[0;34m.\u001b[0m\u001b[0mcast\u001b[0m\u001b[0;34m(\u001b[0m\u001b[0mvalue\u001b[0m\u001b[0;34m,\u001b[0m \u001b[0mtensor\u001b[0m\u001b[0;34m.\u001b[0m\u001b[0mdtype\u001b[0m\u001b[0;34m)\u001b[0m\u001b[0;34m\u001b[0m\u001b[0;34m\u001b[0m\u001b[0m\n\u001b[1;32m   3791\u001b[0m       \u001b[0mconverted_inputs\u001b[0m\u001b[0;34m.\u001b[0m\u001b[0mappend\u001b[0m\u001b[0;34m(\u001b[0m\u001b[0mvalue\u001b[0m\u001b[0;34m)\u001b[0m\u001b[0;34m\u001b[0m\u001b[0;34m\u001b[0m\u001b[0m\n\u001b[0;32m-> 3792\u001b[0;31m     \u001b[0moutputs\u001b[0m \u001b[0;34m=\u001b[0m \u001b[0mself\u001b[0m\u001b[0;34m.\u001b[0m\u001b[0m_graph_fn\u001b[0m\u001b[0;34m(\u001b[0m\u001b[0;34m*\u001b[0m\u001b[0mconverted_inputs\u001b[0m\u001b[0;34m)\u001b[0m\u001b[0;34m\u001b[0m\u001b[0;34m\u001b[0m\u001b[0m\n\u001b[0m\u001b[1;32m   3793\u001b[0m \u001b[0;34m\u001b[0m\u001b[0m\n\u001b[1;32m   3794\u001b[0m     \u001b[0;31m# EagerTensor.numpy() will often make a copy to ensure memory safety.\u001b[0m\u001b[0;34m\u001b[0m\u001b[0;34m\u001b[0m\u001b[0;34m\u001b[0m\u001b[0m\n",
      "\u001b[0;32m/opt/anaconda3/lib/python3.7/site-packages/tensorflow/python/eager/function.py\u001b[0m in \u001b[0;36m__call__\u001b[0;34m(self, *args, **kwargs)\u001b[0m\n\u001b[1;32m   1603\u001b[0m       \u001b[0mTypeError\u001b[0m\u001b[0;34m:\u001b[0m \u001b[0mFor\u001b[0m \u001b[0minvalid\u001b[0m \u001b[0mpositional\u001b[0m\u001b[0;34m/\u001b[0m\u001b[0mkeyword\u001b[0m \u001b[0margument\u001b[0m \u001b[0mcombinations\u001b[0m\u001b[0;34m.\u001b[0m\u001b[0;34m\u001b[0m\u001b[0;34m\u001b[0m\u001b[0m\n\u001b[1;32m   1604\u001b[0m     \"\"\"\n\u001b[0;32m-> 1605\u001b[0;31m     \u001b[0;32mreturn\u001b[0m \u001b[0mself\u001b[0m\u001b[0;34m.\u001b[0m\u001b[0m_call_impl\u001b[0m\u001b[0;34m(\u001b[0m\u001b[0margs\u001b[0m\u001b[0;34m,\u001b[0m \u001b[0mkwargs\u001b[0m\u001b[0;34m)\u001b[0m\u001b[0;34m\u001b[0m\u001b[0;34m\u001b[0m\u001b[0m\n\u001b[0m\u001b[1;32m   1606\u001b[0m \u001b[0;34m\u001b[0m\u001b[0m\n\u001b[1;32m   1607\u001b[0m   \u001b[0;32mdef\u001b[0m \u001b[0m_call_impl\u001b[0m\u001b[0;34m(\u001b[0m\u001b[0mself\u001b[0m\u001b[0;34m,\u001b[0m \u001b[0margs\u001b[0m\u001b[0;34m,\u001b[0m \u001b[0mkwargs\u001b[0m\u001b[0;34m,\u001b[0m \u001b[0mcancellation_manager\u001b[0m\u001b[0;34m=\u001b[0m\u001b[0;32mNone\u001b[0m\u001b[0;34m)\u001b[0m\u001b[0;34m:\u001b[0m\u001b[0;34m\u001b[0m\u001b[0;34m\u001b[0m\u001b[0m\n",
      "\u001b[0;32m/opt/anaconda3/lib/python3.7/site-packages/tensorflow/python/eager/function.py\u001b[0m in \u001b[0;36m_call_impl\u001b[0;34m(self, args, kwargs, cancellation_manager)\u001b[0m\n\u001b[1;32m   1643\u001b[0m       raise TypeError(\"Keyword arguments {} unknown. Expected {}.\".format(\n\u001b[1;32m   1644\u001b[0m           list(kwargs.keys()), list(self._arg_keywords)))\n\u001b[0;32m-> 1645\u001b[0;31m     \u001b[0;32mreturn\u001b[0m \u001b[0mself\u001b[0m\u001b[0;34m.\u001b[0m\u001b[0m_call_flat\u001b[0m\u001b[0;34m(\u001b[0m\u001b[0margs\u001b[0m\u001b[0;34m,\u001b[0m \u001b[0mself\u001b[0m\u001b[0;34m.\u001b[0m\u001b[0mcaptured_inputs\u001b[0m\u001b[0;34m,\u001b[0m \u001b[0mcancellation_manager\u001b[0m\u001b[0;34m)\u001b[0m\u001b[0;34m\u001b[0m\u001b[0;34m\u001b[0m\u001b[0m\n\u001b[0m\u001b[1;32m   1646\u001b[0m \u001b[0;34m\u001b[0m\u001b[0m\n\u001b[1;32m   1647\u001b[0m   \u001b[0;32mdef\u001b[0m \u001b[0m_filtered_call\u001b[0m\u001b[0;34m(\u001b[0m\u001b[0mself\u001b[0m\u001b[0;34m,\u001b[0m \u001b[0margs\u001b[0m\u001b[0;34m,\u001b[0m \u001b[0mkwargs\u001b[0m\u001b[0;34m)\u001b[0m\u001b[0;34m:\u001b[0m\u001b[0;34m\u001b[0m\u001b[0;34m\u001b[0m\u001b[0m\n",
      "\u001b[0;32m/opt/anaconda3/lib/python3.7/site-packages/tensorflow/python/eager/function.py\u001b[0m in \u001b[0;36m_call_flat\u001b[0;34m(self, args, captured_inputs, cancellation_manager)\u001b[0m\n\u001b[1;32m   1744\u001b[0m       \u001b[0;31m# No tape is watching; skip to running the function.\u001b[0m\u001b[0;34m\u001b[0m\u001b[0;34m\u001b[0m\u001b[0;34m\u001b[0m\u001b[0m\n\u001b[1;32m   1745\u001b[0m       return self._build_call_outputs(self._inference_function.call(\n\u001b[0;32m-> 1746\u001b[0;31m           ctx, args, cancellation_manager=cancellation_manager))\n\u001b[0m\u001b[1;32m   1747\u001b[0m     forward_backward = self._select_forward_and_backward_functions(\n\u001b[1;32m   1748\u001b[0m         \u001b[0margs\u001b[0m\u001b[0;34m,\u001b[0m\u001b[0;34m\u001b[0m\u001b[0;34m\u001b[0m\u001b[0m\n",
      "\u001b[0;32m/opt/anaconda3/lib/python3.7/site-packages/tensorflow/python/eager/function.py\u001b[0m in \u001b[0;36mcall\u001b[0;34m(self, ctx, args, cancellation_manager)\u001b[0m\n\u001b[1;32m    596\u001b[0m               \u001b[0minputs\u001b[0m\u001b[0;34m=\u001b[0m\u001b[0margs\u001b[0m\u001b[0;34m,\u001b[0m\u001b[0;34m\u001b[0m\u001b[0;34m\u001b[0m\u001b[0m\n\u001b[1;32m    597\u001b[0m               \u001b[0mattrs\u001b[0m\u001b[0;34m=\u001b[0m\u001b[0mattrs\u001b[0m\u001b[0;34m,\u001b[0m\u001b[0;34m\u001b[0m\u001b[0;34m\u001b[0m\u001b[0m\n\u001b[0;32m--> 598\u001b[0;31m               ctx=ctx)\n\u001b[0m\u001b[1;32m    599\u001b[0m         \u001b[0;32melse\u001b[0m\u001b[0;34m:\u001b[0m\u001b[0;34m\u001b[0m\u001b[0;34m\u001b[0m\u001b[0m\n\u001b[1;32m    600\u001b[0m           outputs = execute.execute_with_cancellation(\n",
      "\u001b[0;32m/opt/anaconda3/lib/python3.7/site-packages/tensorflow/python/eager/execute.py\u001b[0m in \u001b[0;36mquick_execute\u001b[0;34m(op_name, num_outputs, inputs, attrs, ctx, name)\u001b[0m\n\u001b[1;32m     58\u001b[0m     \u001b[0mctx\u001b[0m\u001b[0;34m.\u001b[0m\u001b[0mensure_initialized\u001b[0m\u001b[0;34m(\u001b[0m\u001b[0;34m)\u001b[0m\u001b[0;34m\u001b[0m\u001b[0;34m\u001b[0m\u001b[0m\n\u001b[1;32m     59\u001b[0m     tensors = pywrap_tfe.TFE_Py_Execute(ctx._handle, device_name, op_name,\n\u001b[0;32m---> 60\u001b[0;31m                                         inputs, attrs, num_outputs)\n\u001b[0m\u001b[1;32m     61\u001b[0m   \u001b[0;32mexcept\u001b[0m \u001b[0mcore\u001b[0m\u001b[0;34m.\u001b[0m\u001b[0m_NotOkStatusException\u001b[0m \u001b[0;32mas\u001b[0m \u001b[0me\u001b[0m\u001b[0;34m:\u001b[0m\u001b[0;34m\u001b[0m\u001b[0;34m\u001b[0m\u001b[0m\n\u001b[1;32m     62\u001b[0m     \u001b[0;32mif\u001b[0m \u001b[0mname\u001b[0m \u001b[0;32mis\u001b[0m \u001b[0;32mnot\u001b[0m \u001b[0;32mNone\u001b[0m\u001b[0;34m:\u001b[0m\u001b[0;34m\u001b[0m\u001b[0;34m\u001b[0m\u001b[0m\n",
      "\u001b[0;31mKeyboardInterrupt\u001b[0m: "
     ]
    }
   ],
   "source": [
    "Y_pred = model4.predict(train_X)\n",
    "Y_pred_reshape = np.reshape(Y_pred,(Y_pred.shape[0],15,3))\n",
    "print(\"training loss:\", MPJPE_error(Y.reshape((-1,15,3)),Y_pred_reshape))"
   ]
  },
  {
   "cell_type": "code",
   "execution_count": 1166,
   "metadata": {},
   "outputs": [],
   "source": [
    "#load model4 from the loacl file\n",
    "\n",
    "json_file = open('model4.json', 'r')\n",
    "loaded_model4_json = json_file.read()\n",
    "json_file.close()\n",
    "loaded_model4 = model_from_json(loaded_model4_json)\n",
    "loaded_model4.load_weights(\"model4.h5\")"
   ]
  },
  {
   "cell_type": "code",
   "execution_count": 1176,
   "metadata": {},
   "outputs": [],
   "source": [
    "#save model4 to local file\n",
    "\n",
    "model4_json = model4.to_json()\n",
    "with open(\"model4.json\", \"w\") as json_file:\n",
    "    json_file.write(model4_json)\n",
    "model4.save_weights(\"model4.h5\")"
   ]
  },
  {
   "cell_type": "code",
   "execution_count": 1167,
   "metadata": {},
   "outputs": [],
   "source": [
    "model4 = loaded_model4"
   ]
  },
  {
   "cell_type": "code",
   "execution_count": null,
   "metadata": {},
   "outputs": [],
   "source": []
  },
  {
   "cell_type": "code",
   "execution_count": null,
   "metadata": {},
   "outputs": [],
   "source": []
  },
  {
   "cell_type": "code",
   "execution_count": null,
   "metadata": {},
   "outputs": [],
   "source": []
  },
  {
   "cell_type": "code",
   "execution_count": null,
   "metadata": {},
   "outputs": [],
   "source": []
  },
  {
   "cell_type": "code",
   "execution_count": null,
   "metadata": {},
   "outputs": [],
   "source": []
  },
  {
   "cell_type": "code",
   "execution_count": null,
   "metadata": {},
   "outputs": [],
   "source": [
    "poly_test_x = poly_test.fit_transform(gt_2d_test)\n",
    "test_X = np.concatenate((scaler2.transform(poly_test_x), \n",
    "                        scaler64.transform(J_test_gt_mdp_enc2_15.reshape((J_test_gt_mdp_enc2_15.shape[0],-1))), \n",
    "                        scaler15.transform(J_test_gt_mdp_15.reshape((J_test_gt_mdp_15.shape[0],-1))), \n",
    "                        scaler15d.transform(test_gt_mdp_15.reshape((test_gt_mdp_15.shape[0],-1)))),axis = 1)"
   ]
  },
  {
   "cell_type": "code",
   "execution_count": null,
   "metadata": {},
   "outputs": [],
   "source": []
  },
  {
   "cell_type": "code",
   "execution_count": 18,
   "metadata": {},
   "outputs": [],
   "source": [
    "### final submission\n",
    "X_test = np.reshape(gt_2d_test,(gt_2d_test.shape[0],16*2))\n",
    "Y_test_pred = regr.predict(X_test)\n",
    "Y_test_pred_reshape = np.reshape(Y_test_pred,(Y_test_pred.shape[0],15,3))\n",
    "#np.save('Hackthon_groupXXX_submission.npy',Y_test_pred_reshape)"
   ]
  },
  {
   "cell_type": "code",
   "execution_count": null,
   "metadata": {},
   "outputs": [],
   "source": []
  },
  {
   "cell_type": "code",
   "execution_count": 276,
   "metadata": {},
   "outputs": [],
   "source": [
    "### final submission\n",
    "X_test = np.reshape(gt_2d_test,(gt_2d_test.shape[0],16*2))\n",
    "Y_test_pred = model.predict(myPolyDegree2(X_test))\n",
    "Y_test_pred_reshape = np.reshape(Y_test_pred,(Y_test_pred.shape[0],15,3))\n",
    "#np.save('Hackthon_groupXXX_submission.npy',Y_test_pred_reshape)"
   ]
  },
  {
   "cell_type": "code",
   "execution_count": 277,
   "metadata": {},
   "outputs": [
    {
     "data": {
      "text/plain": [
       "<matplotlib.image.AxesImage at 0x234c1c2d0>"
      ]
     },
     "execution_count": 277,
     "metadata": {},
     "output_type": "execute_result"
    },
    {
     "data": {
      "image/png": "[encoded data removed]",
      "text/plain": [
       "<Figure size 432x288 with 1 Axes>"
      ]
     },
     "metadata": {
      "needs_background": "light"
     },
     "output_type": "display_data"
    }
   ],
   "source": [
    "X_test_reshaped_img = show2D(X_val[6])\n",
    "plt.imshow(X_test_reshaped_img)"
   ]
  },
  {
   "cell_type": "code",
   "execution_count": 752,
   "metadata": {},
   "outputs": [
    {
     "data": {
      "text/plain": [
       "<matplotlib.image.AxesImage at 0x1f34b6e10>"
      ]
     },
     "execution_count": 752,
     "metadata": {},
     "output_type": "execute_result"
    },
    {
     "data": {
      "image/png": "[encoded data removed]",
      "text/plain": [
       "<Figure size 432x288 with 1 Axes>"
      ]
     },
     "metadata": {
      "needs_background": "light"
     },
     "output_type": "display_data"
    }
   ],
   "source": [
    "X_val_reshaped_img = show2D(X_val[0])\n",
    "plt.imshow(X_val_reshaped_img)"
   ]
  },
  {
   "cell_type": "code",
   "execution_count": 734,
   "metadata": {
    "scrolled": true
   },
   "outputs": [
    {
     "data": {
      "image/png": "[encoded data removed]",
      "text/plain": [
       "<Figure size 1080x1080 with 1 Axes>"
      ]
     },
     "metadata": {
      "needs_background": "light"
     },
     "output_type": "display_data"
    }
   ],
   "source": [
    "vis_3d_skeleton(Y_val_pred_reshape[1])"
   ]
  },
  {
   "cell_type": "code",
   "execution_count": 662,
   "metadata": {},
   "outputs": [
    {
     "data": {
      "image/png": "[encoded data removed]",
      "text/plain": [
       "<Figure size 1080x1080 with 1 Axes>"
      ]
     },
     "metadata": {
      "needs_background": "light"
     },
     "output_type": "display_data"
    }
   ],
   "source": [
    "vis_3d_skeleton(gt_3d_val_rel[2])\n",
    "# print(gt_3d_val_rel.shape)\n",
    "# print(Y_test_pred_reshaped.shape)"
   ]
  },
  {
   "cell_type": "code",
   "execution_count": 732,
   "metadata": {},
   "outputs": [
    {
     "data": {
      "image/png": "[encoded data removed]",
      "text/plain": [
       "<Figure size 1080x1080 with 1 Axes>"
      ]
     },
     "metadata": {
      "needs_background": "light"
     },
     "output_type": "display_data"
    },
    {
     "data": {
      "image/png": "[encoded data removed]",
      "text/plain": [
       "<Figure size 1080x1080 with 1 Axes>"
      ]
     },
     "metadata": {
      "needs_background": "light"
     },
     "output_type": "display_data"
    }
   ],
   "source": [
    "vis_3d_skeleton(gt_3d_val_rel[2])\n",
    "vis_3d_skeleton(Y_val_pred_reshape[2])"
   ]
  },
  {
   "cell_type": "code",
   "execution_count": null,
   "metadata": {},
   "outputs": [],
   "source": []
  }
 ],
 "metadata": {
  "kernelspec": {
   "display_name": "Python 3",
   "language": "python",
   "name": "python3"
  }
 },
 "nbformat": 4,
 "nbformat_minor": 2
}
